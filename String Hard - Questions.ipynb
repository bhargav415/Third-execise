{
 "cells": [
  {
   "cell_type": "markdown",
   "metadata": {},
   "source": [
    "# String Hard Questions"
   ]
  },
  {
   "cell_type": "code",
   "execution_count": null,
   "metadata": {},
   "outputs": [],
   "source": [
    "1. Write a Python program to find the first repeated character in a given string.\n",
    "    Data:\n",
    "        \"abcdabcd\"\n",
    "        \"abcd\"\n",
    "    Expected Output:\n",
    "        a\n",
    "        None\n",
    "        \n",
    "        \n",
    "        \n",
    "        "
   ]
  },
  {
   "cell_type": "code",
   "execution_count": 5,
   "metadata": {},
   "outputs": [
    {
     "name": "stdin",
     "output_type": "stream",
     "text": [
      "Enter a string:  abcd\n"
     ]
    },
    {
     "name": "stdout",
     "output_type": "stream",
     "text": [
      "None\n"
     ]
    }
   ],
   "source": [
    "def first_repeated_char(s): \n",
    "    counts = {}    \n",
    "    for char in s:        \n",
    "        if char in counts:           \n",
    "            return char        \n",
    "        counts[char] = 1    \n",
    "    return None\n",
    "a = input(\"Enter a string: \")\n",
    "result = first_repeated_char(a)\n",
    "print(result)"
   ]
  },
  {
   "cell_type": "code",
   "execution_count": null,
   "metadata": {},
   "outputs": [],
   "source": [
    "2. Write a Python program to find the first repeated character of a given string where the index of first occurrence is smallest.\n",
    "    Data:\n",
    "        \"abcabc\"\n",
    "        \"abcb\"\n",
    "        \"abcc\"\n",
    "        \"abcxxy\"\n",
    "        \"abc\"\n",
    "    Expected Output:\n",
    "        ('a', 0) \n",
    "        ('b', 1)\n",
    "        ('c', 2)\n",
    "        ('x', 3)\n",
    "        None\n",
    "        \n",
    "        \n",
    "        \n",
    "        "
   ]
  },
  {
   "cell_type": "code",
   "execution_count": 2,
   "metadata": {},
   "outputs": [
    {
     "name": "stdin",
     "output_type": "stream",
     "text": [
      "Enter number of inputs:  5\n",
      " abcabc\n"
     ]
    },
    {
     "name": "stdout",
     "output_type": "stream",
     "text": [
      "('a', 0)\n"
     ]
    },
    {
     "name": "stdin",
     "output_type": "stream",
     "text": [
      " abcb\n"
     ]
    },
    {
     "name": "stdout",
     "output_type": "stream",
     "text": [
      "('b', 1)\n"
     ]
    },
    {
     "name": "stdin",
     "output_type": "stream",
     "text": [
      " abcxxy\n"
     ]
    },
    {
     "name": "stdout",
     "output_type": "stream",
     "text": [
      "('x', 3)\n"
     ]
    },
    {
     "name": "stdin",
     "output_type": "stream",
     "text": [
      " abcc\n"
     ]
    },
    {
     "name": "stdout",
     "output_type": "stream",
     "text": [
      "('c', 2)\n"
     ]
    },
    {
     "name": "stdin",
     "output_type": "stream",
     "text": [
      " abc\n"
     ]
    },
    {
     "name": "stdout",
     "output_type": "stream",
     "text": [
      "None\n"
     ]
    }
   ],
   "source": [
    "def find_first_repeated_char(text):\n",
    "    char_index_map = {}\n",
    "    for index, char in enumerate(text):\n",
    "        if char in char_index_map:\n",
    "            return (char, char_index_map[char])\n",
    "        char_index_map[char] = index\n",
    "    return None\n",
    "num_cases = int(input(\"Enter number of inputs: \"))\n",
    " \n",
    "for _ in range(num_cases):\n",
    "    user_input = input()\n",
    "    result = find_first_repeated_char(user_input)\n",
    "    print(result)"
   ]
  },
  {
   "cell_type": "code",
   "execution_count": 1,
   "metadata": {},
   "outputs": [
    {
     "name": "stdin",
     "output_type": "stream",
     "text": [
      "Enter the string values :  abcabc,abcb,abcc,abcxxy,abc\n"
     ]
    },
    {
     "name": "stdout",
     "output_type": "stream",
     "text": [
      "Input: abcabc -> Output: ('a', 0)\n",
      "Input: abcb -> Output: ('b', 1)\n",
      "Input: abcc -> Output: ('c', 2)\n",
      "Input: abcxxy -> Output: ('x', 3)\n",
      "Input: abc -> Output: ('x', 3)\n"
     ]
    }
   ],
   "source": [
    "def find_first_repeated_char(s):    \n",
    "    char_index = {}    \n",
    "    for index, char in enumerate(s):        \n",
    "        if char in char_index:            \n",
    "            return (char, char_index[char])        \n",
    "        char_index[char] = index    \n",
    "    return ('x', 3)\n",
    "user_input = input(\"Enter the string values : \")\n",
    "string_list = [s.strip() for s in user_input.split(\",\")]\n",
    "for s in string_list:    \n",
    "    result = find_first_repeated_char(s)    \n",
    "    print(f\"Input: {s} -> Output: {result}\")"
   ]
  },
  {
   "cell_type": "code",
   "execution_count": null,
   "metadata": {},
   "outputs": [],
   "source": [
    "3. Write a Python program to find the second most repeated word in a given string.\n",
    "    Data:\n",
    "        x = (\"\"\"\"Both of these issues are fixed by postponing the evaluation of annotations. \n",
    "        Instead of compiling code which executes expressions in annotations at their definition time, the compiler stores the \n",
    "        annotation in a string form equivalent to the AST of the expression in question. If needed, \n",
    "        annotations can be resolved at runtime using typing.get_type_hints(). \n",
    "        In the common case where this is not required, \n",
    "        the annotations are cheaper to store (since short strings are interned by the interpreter) \n",
    "        and make startup time faster.\"\"\"\")\n",
    "    Expected Output:\n",
    "                ('of', 4)\n",
    "             \n",
    "             \n",
    "             \n",
    "             "
   ]
  },
  {
   "cell_type": "code",
   "execution_count": 2,
   "metadata": {},
   "outputs": [
    {
     "name": "stdout",
     "output_type": "stream",
     "text": [
      "('of', 4)\n"
     ]
    }
   ],
   "source": [
    "from collections import Counter\n",
    "import re\n",
    "\n",
    "def second_most_repeated_word(text):\n",
    "    words = re.findall(r'\\b\\w+\\b', text.lower())\n",
    "    word_counts = Counter(words)\n",
    "\n",
    "    if len(word_counts) < 2:\n",
    "        return None\n",
    "\n",
    "    most_common = word_counts.most_common(2)\n",
    "    if len(most_common) < 2:\n",
    "        return None\n",
    "\n",
    "    return most_common[1]\n",
    "data = \"\"\"Both of these issues are fixed by postponing the evaluation of annotations. \n",
    "Instead of compiling code which executes expressions in annotations at their definition time, \n",
    "the compiler stores the annotation in a string form equivalent to the AST of the expression in question. \n",
    "If needed, annotations can be resolved at runtime using type.get_type_hints(). \n",
    "In the common case where this is not required, the annotations are cheaper to store (since short strings are interned by the interpreter) and make startup time faster.\"\"\"\n",
    "\n",
    "result = second_most_repeated_word(data)\n",
    "print(result)"
   ]
  },
  {
   "cell_type": "code",
   "execution_count": null,
   "metadata": {},
   "outputs": [],
   "source": [
    "4. Write a Python program to find the maximum occurring character in a given string.\n",
    "    Data:\n",
    "        \"Python: Get file creation and modification date/times\"\n",
    "        \"abcdefghijkb\"\n",
    "    Expected Output:\n",
    "        t\n",
    "        b\n",
    "        \n",
    "        \n",
    "        \n",
    "        "
   ]
  },
  {
   "cell_type": "code",
   "execution_count": 3,
   "metadata": {},
   "outputs": [
    {
     "name": "stdout",
     "output_type": "stream",
     "text": [
      "t\n",
      "b\n"
     ]
    }
   ],
   "source": [
    "def get_max_occuring_char(str1):\n",
    "    ASCII_SIZE = 256\n",
    "    ctr = [0] * ASCII_SIZE\n",
    "    max = -1\n",
    "    ch = ''\n",
    "    for i in str1:\n",
    "        ctr[ord(i)] += 1\n",
    "    for i in str1:\n",
    "        if max < ctr[ord(i)]:\n",
    "            max = ctr[ord(i)]  \n",
    "            ch = i  \n",
    "    return ch \n",
    "print(get_max_occuring_char(\"Python: Get file creation and modification date/times\"))\n",
    "print(get_max_occuring_char(\"abcdefghijkb\")) "
   ]
  },
  {
   "cell_type": "code",
   "execution_count": null,
   "metadata": {},
   "outputs": [],
   "source": [
    "5. Write a Python program to capitalize first and last letters of each word of a given string.\n",
    "    Data:\n",
    "        \"python exercises practice solution\"\n",
    "        \"aidinasaur\"\n",
    "    Expected Output:\n",
    "        PythoN ExerciseS PracticE SolutioN\n",
    "        AidinasauR\n",
    "        \n",
    "        \n",
    "        \n",
    "        "
   ]
  },
  {
   "cell_type": "code",
   "execution_count": 4,
   "metadata": {},
   "outputs": [
    {
     "name": "stdout",
     "output_type": "stream",
     "text": [
      "PythoN ExerciseS PracticE SolutioN\n",
      "AidinasauR\n"
     ]
    }
   ],
   "source": [
    "def capitalize_first_last_letters(str1):\n",
    "    str1 = result = str1.title()\n",
    "    result = \"\"\n",
    "    for word in str1.split():\n",
    "        result += word[:-1] + word[-1].upper() + \" \"\n",
    "    return result[:-1]\n",
    "print(capitalize_first_last_letters(\"python exercises practice solution\"))\n",
    "print(capitalize_first_last_letters(\"aidinasaur\"))"
   ]
  },
  {
   "cell_type": "code",
   "execution_count": null,
   "metadata": {},
   "outputs": [],
   "source": [
    "def capitalize_first_last_letters(str1):    \n",
    "    str1 = str1.title()    \n",
    "    result = \"\"    \n",
    "    for word in str1.split():        \n",
    "        if len(word) > 1:            \n",
    "            result += word[:-1] + word[-1].upper() + \" \"       \n",
    "        else:            \n",
    "            result += word.upper() + \" \"    \n",
    "    return result[:-1]\n",
    "a = input(\"Enter the values \")\n",
    "string_list = [s.strip()for s in a.split(\",\")]\n",
    "for s in string_list:    \n",
    "    output = capitalize_first_last_letters(s)    \n",
    "    print(f\"Input: {s} -> Output: {output}\")"
   ]
  },
  {
   "cell_type": "code",
   "execution_count": null,
   "metadata": {},
   "outputs": [],
   "source": [
    "6. Write a Python program to compute sum of digits of a given string.\n",
    "    Data:\n",
    "        \"123abcd45\"\n",
    "        \"abcd1234\"\n",
    "    Expected Output:\n",
    "        15\n",
    "        10\n",
    "        \n",
    "        \n",
    "        \n",
    "        "
   ]
  },
  {
   "cell_type": "code",
   "execution_count": 3,
   "metadata": {},
   "outputs": [
    {
     "name": "stdin",
     "output_type": "stream",
     "text": [
      "Enter a string (or type 'exit' to quit):  \"123abcd45\"\n"
     ]
    },
    {
     "name": "stdout",
     "output_type": "stream",
     "text": [
      "The sum of digits in '\"123abcd45\"' is: 15\n"
     ]
    },
    {
     "name": "stdin",
     "output_type": "stream",
     "text": [
      "Enter a string (or type 'exit' to quit):  \"abcd1234\"\n"
     ]
    },
    {
     "name": "stdout",
     "output_type": "stream",
     "text": [
      "The sum of digits in '\"abcd1234\"' is: 10\n"
     ]
    },
    {
     "name": "stdin",
     "output_type": "stream",
     "text": [
      "Enter a string (or type 'exit' to quit):  exit\n"
     ]
    },
    {
     "name": "stdout",
     "output_type": "stream",
     "text": [
      "Exiting program.\n"
     ]
    }
   ],
   "source": [
    "def sum_of_digits_in_string(input_string):\n",
    "    total_sum = 0    \n",
    "    for char in input_string:        \n",
    "        if char.isdigit():            \n",
    "            total_sum += int(char)    \n",
    "    return total_sum\n",
    "while True:    \n",
    "    user_input_string = input(\"Enter a string (or type 'exit' to quit): \")    \n",
    "    if user_input_string.lower() == 'exit':       \n",
    "        print(\"Exiting program.\")        \n",
    "        break    \n",
    "    result = sum_of_digits_in_string(user_input_string)    \n",
    "    print(f\"The sum of digits in '{user_input_string}' is: {result}\")\n",
    " "
   ]
  },
  {
   "cell_type": "code",
   "execution_count": 4,
   "metadata": {},
   "outputs": [
    {
     "name": "stdin",
     "output_type": "stream",
     "text": [
      "Enter a string :  '123abcd45'\n"
     ]
    },
    {
     "name": "stdout",
     "output_type": "stream",
     "text": [
      "The sum of digits in ''123abcd45'' is: 15\n"
     ]
    }
   ],
   "source": [
    "def sum_of_digits_in_string(input_string):\n",
    "    total_sum = 0\n",
    "    for char in input_string:\n",
    "        if char.isdigit():\n",
    "            total_sum += int(char)\n",
    "    return total_sum\n",
    "user_input_string = input(\"Enter a string : \")\n",
    "result = sum_of_digits_in_string(user_input_string)\n",
    "print(f\"The sum of digits in '{user_input_string}' is: {result}\")"
   ]
  },
  {
   "cell_type": "code",
   "execution_count": null,
   "metadata": {},
   "outputs": [],
   "source": [
    "7. Write a Python program to find maximum length of consecutive 0's in a given binary string.\n",
    "    Data:\n",
    "        Original string:\n",
    "        111000010000110\n",
    "        111000111\n",
    "    Expected Output:\n",
    "        Maximum length of consecutive 0’s:\n",
    "        4\n",
    "        Maximum length of consecutive 0’s:\n",
    "        3\n",
    "\n",
    "        \n",
    "        \n",
    "        "
   ]
  },
  {
   "cell_type": "code",
   "execution_count": 5,
   "metadata": {},
   "outputs": [
    {
     "name": "stdout",
     "output_type": "stream",
     "text": [
      "Original string:111000010000110\n",
      "Maximum length of consecutive 0’s:\n",
      "4\n",
      "Original string:111000111\n",
      "Maximum length of consecutive 0’s:\n",
      "3\n"
     ]
    }
   ],
   "source": [
    "def max_consecutive_0(input_str):\n",
    "   return max(map(len,input_str.split('1')))  \n",
    "str1 = '111000010000110' \n",
    "print(\"Original string:\" + str1)  \n",
    "print(\"Maximum length of consecutive 0’s:\")\n",
    "print(max_consecutive_0(str1))\n",
    "str1 = '111000111' \n",
    "print(\"Original string:\" + str1) \n",
    "print(\"Maximum length of consecutive 0’s:\")\n",
    "print(max_consecutive_0(str1))"
   ]
  },
  {
   "cell_type": "code",
   "execution_count": null,
   "metadata": {},
   "outputs": [],
   "source": [
    "8. Write a Python program to find all the common characters in lexicographical order from two given lower case strings. \n",
    "   If there are no common letters print \"No common characters\".\n",
    "    Data:\n",
    "        Two strings: Python : PHP\n",
    "        Two strings: Java : PHP\n",
    "    Expected Output:\n",
    "        P\n",
    "        No common characters.\n",
    "        \n",
    "        \n",
    "        \n",
    "        "
   ]
  },
  {
   "cell_type": "code",
   "execution_count": 8,
   "metadata": {},
   "outputs": [
    {
     "name": "stdin",
     "output_type": "stream",
     "text": [
      "Enter the first string: bhargav\n",
      "Enter the second string: raghav\n"
     ]
    },
    {
     "name": "stdout",
     "output_type": "stream",
     "text": [
      "Two strings: bhargav : raghav\n",
      "aaghrv\n"
     ]
    }
   ],
   "source": [
    "from collections import Counter  \n",
    "\n",
    "def common_chars(str1,str2):\n",
    "  d1 = Counter(str1)  \n",
    "  d2 = Counter(str2)\n",
    "  common_dict = d1 & d2 \n",
    "  if len(common_dict) == 0:\n",
    "    return \"No common characters.\"\n",
    "  common_chars = list(common_dict.elements())\n",
    "  common_chars = sorted(common_chars)\n",
    "  return ''.join(common_chars)\n",
    "str1 = input('Enter the first string:')\n",
    "str2 = input('Enter the second string:')\n",
    "print(\"Two strings: \"+str1+' : '+str2)\n",
    "print(common_chars(str1, str2))"
   ]
  },
  {
   "cell_type": "code",
   "execution_count": null,
   "metadata": {},
   "outputs": [],
   "source": [
    "9. Write a Python program to make two given strings (lower case, may or may not be of the same length) \n",
    "   anagrams removing any characters from any of the strings.\n",
    "    Data:\n",
    "        \"marvelboss gaming\"\n",
    "        \"marvelboss timepss\"\n",
    "    Expected Output:\n",
    "        9\n",
    "        \n",
    "        \n",
    "        \n",
    "        "
   ]
  },
  {
   "cell_type": "code",
   "execution_count": 2,
   "metadata": {},
   "outputs": [
    {
     "name": "stdin",
     "output_type": "stream",
     "text": [
      "Enter string1:  \"marvelboss gaming\"\n",
      "Enter string2:  \"marvelboss timepss\"\n"
     ]
    },
    {
     "name": "stdout",
     "output_type": "stream",
     "text": [
      "9\n"
     ]
    }
   ],
   "source": [
    "def min_deletions_to_anagram(str1, str2):\n",
    "    freq1 = {}\n",
    "    freq2 = {}\n",
    "    for char in str1:\n",
    "        freq1[char] = freq1.get(char, 0) + 1\n",
    "    for char in str2:\n",
    "        freq2[char] = freq2.get(char, 0) + 1\n",
    "    deletions = 0\n",
    "    for char in freq1:\n",
    "        if char in freq2:\n",
    "            deletions += abs(freq1[char] - freq2[char])\n",
    "        else:\n",
    "            deletions += freq1[char]\n",
    "    for char in freq2:\n",
    "        if char not in freq1:\n",
    "            deletions += freq2[char]\n",
    "    return deletions\n",
    "str1 = input(\"Enter string1: \")\n",
    "str2 = input(\"Enter string2: \")\n",
    "str1 = str1.replace(\" \", \"\").lower()\n",
    "str2 = str2.replace(\" \", \"\").lower()\n",
    "result = min_deletions_to_anagram(str1, str2)\n",
    "print(result)"
   ]
  },
  {
   "cell_type": "code",
   "execution_count": null,
   "metadata": {},
   "outputs": [],
   "source": [
    "10. Write a Python program to remove all consecutive duplicates of a given string.\n",
    "    Data:\n",
    "        str1 = 'xxxxxyyyyy'\n",
    "    Expected Output:\n",
    "        After removing consecutive duplicates: xxxxxyyyyy\n",
    "        xy\n",
    "        \n",
    "        \n",
    "        \n",
    "        "
   ]
  },
  {
   "cell_type": "code",
   "execution_count": 2,
   "metadata": {},
   "outputs": [
    {
     "name": "stdin",
     "output_type": "stream",
     "text": [
      "Enter a string:  xxxxxyyyyy\n"
     ]
    },
    {
     "name": "stdout",
     "output_type": "stream",
     "text": [
      "Original string: xxxxxyyyyy\n",
      "After removing consecutive duplicates: xy\n"
     ]
    }
   ],
   "source": [
    "def remove_consecutive_duplicates(input_string):\n",
    "\n",
    "    \"\"\"\n",
    "\n",
    "    Removes all consecutive duplicate characters from a string.\n",
    "\n",
    "    \"\"\"\n",
    "\n",
    "    if not input_string:\n",
    "\n",
    "        return \"\"\n",
    "\n",
    "    result = [input_string[0]]\n",
    "\n",
    "    for i in range(1, len(input_string)):\n",
    "\n",
    "        if input_string[i] != input_string[i - 1]:\n",
    "\n",
    "            result.append(input_string[i])\n",
    "\n",
    "    return \"\".join(result)\n",
    "\n",
    "user_input = input(\"Enter a string: \")\n",
    "\n",
    "print(f\"Original string: {user_input}\")\n",
    "\n",
    "print(f\"After removing consecutive duplicates: {remove_consecutive_duplicates(user_input)}\")\n",
    " "
   ]
  },
  {
   "cell_type": "code",
   "execution_count": null,
   "metadata": {},
   "outputs": [],
   "source": [
    "11. Write a Python program to find the longest common sub-string from two given strings.\n",
    "    Data:\n",
    "        Original Substrings:\n",
    "        abcdefgh\n",
    "        xswerabcdwd\n",
    "    Expected Output:\n",
    "        Common longest sub string:\n",
    "        abcd\n",
    "        \n",
    "        \n",
    "        \n",
    "        "
   ]
  },
  {
   "cell_type": "code",
   "execution_count": 3,
   "metadata": {},
   "outputs": [
    {
     "name": "stdout",
     "output_type": "stream",
     "text": [
      "Original Substrings:\n",
      "abcdefgh\n",
      "xswerabcdwd\n",
      "\n",
      "Common longest sub string: abcd\n"
     ]
    }
   ],
   "source": [
    "from difflib import SequenceMatcher\n",
    "\n",
    "def find_longest_common_substring(s1, s2):\n",
    "    matcher = SequenceMatcher(None, s1, s2)\n",
    "    match = matcher.find_longest_match(0, len(s1), 0, len(s2))\n",
    "\n",
    "    if match.size == 0:\n",
    "        return \"\"\n",
    "    else:\n",
    "        return s1[match.a : match.a + match.size]\n",
    "        \n",
    "string1 = \"abcdefgh\"\n",
    "string2 = \"xswerabcdwd\"\n",
    "\n",
    "longest_common = find_longest_common_substring(string1, string2)\n",
    "\n",
    "print(f\"Original Substrings:\\n{string1}\\n{string2}\")\n",
    "print(f\"\\nCommon longest sub string: {longest_common}\")"
   ]
  },
  {
   "cell_type": "code",
   "execution_count": null,
   "metadata": {},
   "outputs": [],
   "source": [
    "12. Write a Python program to move all spaces to the front of a given string in single traversal.\n",
    "    Data:\n",
    "        Original String:\n",
    "        Python Exercises\n",
    "    Expected Output:\n",
    "        After moving all spaces to the front:\n",
    "        PythonExercises  \n",
    "        \n",
    "        \n",
    "        \n",
    "        "
   ]
  },
  {
   "cell_type": "code",
   "execution_count": 4,
   "metadata": {},
   "outputs": [
    {
     "name": "stdout",
     "output_type": "stream",
     "text": [
      "After moving all spaces to the front:  PythonExercises\n"
     ]
    }
   ],
   "source": [
    "def move_spaces_to_front(input_string):\n",
    "    no_spaces = [char for char in input_string if char != ' ']\n",
    "    num_spaces = len(input_string) - len(no_spaces)\n",
    "    return ' ' * num_spaces + ''.join(no_spaces)\n",
    "original_string = \"Python Exercises\"\n",
    "modified_string = move_spaces_to_front(original_string)\n",
    "print(f\"After moving all spaces to the front: {modified_string}\")"
   ]
  },
  {
   "cell_type": "code",
   "execution_count": null,
   "metadata": {},
   "outputs": [],
   "source": [
    "13. Write a Python code to remove all characters except a specified character in a given string. \n",
    "    Data:\n",
    "        Original string\n",
    "        \"Python Exercises\"\n",
    "        \"google\"\n",
    "        \"exercises\"\n",
    "    Expected Output:\n",
    "        Remove all characters except P in the said string:\n",
    "        P\n",
    "        Remove all characters except g in the said string:\n",
    "        gg\n",
    "        Remove all characters except e in the said string:\n",
    "        eee\n",
    "        \n",
    "        \n",
    "        \n",
    "        "
   ]
  },
  {
   "cell_type": "code",
   "execution_count": null,
   "metadata": {},
   "outputs": [],
   "source": [
    "14. Write a Python program to count Uppercase, Lowercase, special character and numeric values in a given string.\n",
    "    Data:\n",
    "        Original Substrings: @Aidinasaur.Com\n",
    "    Expected Output:\n",
    "        Upper case characters:  2\n",
    "        Lower case characters:  11\n",
    "        Number case:  0\n",
    "        Special case characters:  2\n",
    "            \n",
    "            \n",
    "            \n",
    "            "
   ]
  },
  {
   "cell_type": "code",
   "execution_count": 9,
   "metadata": {},
   "outputs": [
    {
     "name": "stdout",
     "output_type": "stream",
     "text": [
      "Original Substrings: @Aidinasaur.Com\n",
      "Upper case characters: 2\n",
      "Lower case characters: 11\n",
      "Number case: 0\n",
      "Special case characters: 2\n"
     ]
    }
   ],
   "source": [
    "\n",
    "def count_character_types(input_string):\n",
    "    uppercase_count = 0\n",
    "    lowercase_count = 0\n",
    "    numeric_count = 0\n",
    "    special_count = 0\n",
    "\n",
    "    for char in input_string:\n",
    "        if char.isupper():\n",
    "            uppercase_count += 1\n",
    "        elif char.islower():\n",
    "            lowercase_count += 1\n",
    "        elif char.isdigit():\n",
    "            numeric_count += 1\n",
    "        else:\n",
    "            special_count += 1\n",
    "    return uppercase_count, lowercase_count, numeric_count, special_count\n",
    "\n",
    "# Data\n",
    "original_substring = \"@Aidinasaur.Com\"\n",
    "\n",
    "# Call the function and unpack the results\n",
    "upper, lower, number, special = count_character_types(original_substring)\n",
    "\n",
    "# Print the expected output format\n",
    "print(f\"Original Substrings: {original_substring}\")\n",
    "print(f\"Upper case characters: {upper}\")\n",
    "print(f\"Lower case characters: {lower}\")\n",
    "print(f\"Number case: {number}\")\n",
    "print(f\"Special case characters: {special}\")"
   ]
  },
  {
   "cell_type": "code",
   "execution_count": null,
   "metadata": {},
   "outputs": [],
   "source": [
    "15. Write a Python program to find the minimum window in a given string which will contain all\n",
    "    the characters of another given string.\n",
    "    Data:\n",
    "        Original Strings:\n",
    "        PRWSOERIUSFK \n",
    "        OSU\n",
    "    Expected Output:\n",
    "        Minimum window:\n",
    "        OERIUS \n",
    "        \n",
    "        \n",
    "        \n",
    "        "
   ]
  },
  {
   "cell_type": "code",
   "execution_count": 8,
   "metadata": {},
   "outputs": [
    {
     "name": "stdout",
     "output_type": "stream",
     "text": [
      "Minimum window: SOERIU\n"
     ]
    }
   ],
   "source": [
    "import collections\n",
    "\n",
    "def min_window_substring(main_string, target_string):\n",
    "    if not target_string:\n",
    "        return \"\"\n",
    "\n",
    "    target_char_counts = collections.Counter(target_string)\n",
    "    window_char_counts = collections.Counter()\n",
    "    \n",
    "    required_chars = len(target_char_counts)\n",
    "    formed_chars = 0\n",
    "\n",
    "    left = 0\n",
    "    min_length = float('inf')\n",
    "    min_window_start = 0\n",
    "\n",
    "    for right in range(len(main_string)):\n",
    "        char = main_string[right]\n",
    "        window_char_counts[char] += 1\n",
    "\n",
    "        if char in target_char_counts and window_char_counts[char] == target_char_counts[char]:\n",
    "            formed_chars += 1\n",
    "\n",
    "        while formed_chars == required_chars:\n",
    "            current_window_length = right - left + 1\n",
    "            if current_window_length < min_length:\n",
    "                min_length = current_window_length\n",
    "                min_window_start = left\n",
    "\n",
    "            left_char = main_string[left]\n",
    "            window_char_counts[left_char] -= 1\n",
    "            if left_char in target_char_counts and window_char_counts[left_char] < target_char_counts[left_char]:\n",
    "                formed_chars -= 1\n",
    "            left += 1\n",
    "\n",
    "    if min_length == float('inf'):\n",
    "        return \"\"\n",
    "    else:\n",
    "        return main_string[min_window_start : min_window_start + min_length]\n",
    "\n",
    "# Data\n",
    "original_string = \"PRWSOERIUSFK\"\n",
    "target_string = \"OSU\"\n",
    "\n",
    "# Find and print the minimum window\n",
    "minimum_window = min_window_substring(original_string, target_string)\n",
    "print(f\"Minimum window: {minimum_window}\")\n"
   ]
  },
  {
   "cell_type": "code",
   "execution_count": null,
   "metadata": {},
   "outputs": [],
   "source": [
    "16. Write a Python program to find smallest window that contains all characters of a given string.\n",
    "    Data:\n",
    "        Original Strings:\n",
    "        asdaewsqgtwwsa\n",
    "    Expected Output:\n",
    "        Smallest window that contains all characters of the said string:\n",
    "        daewsqgt\n",
    "        \n",
    "        \n",
    "        \n",
    "        "
   ]
  },
  {
   "cell_type": "code",
   "execution_count": 7,
   "metadata": {},
   "outputs": [
    {
     "name": "stdout",
     "output_type": "stream",
     "text": [
      "Smallest window that contains all characters of the said string: daewsqgt\n"
     ]
    }
   ],
   "source": [
    "def find_smallest_window(s):\n",
    "    if not s:\n",
    "        return \"\"\n",
    "\n",
    "    distinct_chars = set(s)\n",
    "    num_distinct = len(distinct_chars)\n",
    "    \n",
    "    char_counts = {}\n",
    "    window_start = 0\n",
    "    min_len = float('inf')\n",
    "    min_window = \"\"\n",
    "    \n",
    "    for window_end in range(len(s)):\n",
    "        char = s[window_end]\n",
    "        char_counts[char] = char_counts.get(char, 0) + 1\n",
    "        \n",
    "        # Check if the current window contains all distinct characters\n",
    "        found_distinct_count = 0\n",
    "        for dc in distinct_chars:\n",
    "            if char_counts.get(dc, 0) > 0:\n",
    "                found_distinct_count += 1\n",
    "        \n",
    "        while found_distinct_count == num_distinct:\n",
    "            current_window_len = window_end - window_start + 1\n",
    "            if current_window_len < min_len:\n",
    "                min_len = current_window_len\n",
    "                min_window = s[window_start : window_end + 1]\n",
    "            \n",
    "            # Shrink the window from the left\n",
    "            left_char = s[window_start]\n",
    "            char_counts[left_char] -= 1\n",
    "            if char_counts[left_char] == 0 and left_char in distinct_chars:\n",
    "                found_distinct_count -= 1\n",
    "            window_start += 1\n",
    "            \n",
    "    return min_window\n",
    "\n",
    "# Test cases\n",
    "original_string = \"asdaewsqgtwwsa\"\n",
    "smallest_window = find_smallest_window(original_string)\n",
    "print(f\"Smallest window that contains all characters of the said string: {smallest_window}\")"
   ]
  },
  {
   "cell_type": "code",
   "execution_count": null,
   "metadata": {},
   "outputs": [],
   "source": [
    "17. Write a Python program to find smallest and largest word in a given string.\n",
    "    Data:\n",
    "        Original Strings:\n",
    "        Write a Java program to sort an array of given integers using Quick sort Algorithm.\n",
    "    Expected Output:\n",
    "        Smallest word: a\n",
    "        Largest word: Algorithm.\n",
    "            \n",
    "            \n",
    "            \n"
   ]
  },
  {
   "cell_type": "code",
   "execution_count": 1,
   "metadata": {},
   "outputs": [
    {
     "name": "stdout",
     "output_type": "stream",
     "text": [
      "Smallest word: a\n",
      "Largest word: Algorithm.\n"
     ]
    }
   ],
   "source": [
    "def find_smallest_largest_word(text):\n",
    "    words = text.split()  # Split the string into a list of words\n",
    " \n",
    "    if not words:\n",
    "        return None, None\n",
    " \n",
    "    smallest_word = words[0]\n",
    "    largest_word = words[0]\n",
    " \n",
    "    for word in words:\n",
    "        if len(word) < len(smallest_word):\n",
    "            smallest_word = word\n",
    "        if len(word) > len(largest_word):\n",
    "            largest_word = word\n",
    " \n",
    "    return smallest_word, largest_word\n",
    " \n",
    "# Simulate user input\n",
    "original_string = \"Write a Java program to sort an array of given integers using Quick sort Algorithm.\"\n",
    " \n",
    "# Find the smallest and largest words\n",
    "smallest, largest = find_smallest_largest_word(original_string)\n",
    " \n",
    "# Print the results\n",
    "print(f\"Smallest word: {smallest}\")\n",
    "print(f\"Largest word: {largest}\")"
   ]
  },
  {
   "cell_type": "code",
   "execution_count": null,
   "metadata": {},
   "outputs": [],
   "source": [
    "18. Write a Python program to find the index of a given string at which a given substring starts. If the substring is \n",
    "    not found in the given string return 'Not found\n",
    "    Data:\n",
    "        \"Ex\"\n",
    "        \"yt\"\n",
    "        \"PY\"\n",
    "    Expected Output:\n",
    "        7\n",
    "        1\n",
    "        Not found\n",
    "        \n",
    "        \n",
    "        \n",
    "        "
   ]
  },
  {
   "cell_type": "code",
   "execution_count": 14,
   "metadata": {},
   "outputs": [
    {
     "name": "stdout",
     "output_type": "stream",
     "text": [
      "7\n",
      "1\n",
      "Not found\n"
     ]
    }
   ],
   "source": [
    "def find_substring_index(main_string, substring):\n",
    "    index = main_string.find(substring)\n",
    "    if index == -1:\n",
    "        return 'Not found'\n",
    "    return index\n",
    "main_string = \"Python Exercises\"\n",
    "substrings = [\"Ex\", \"yt\", \"PY\"]\n",
    "for substring in substrings:\n",
    "    result = find_substring_index(main_string, substring)\n",
    "    print(result)\n",
    "\n",
    " "
   ]
  },
  {
   "cell_type": "code",
   "execution_count": null,
   "metadata": {},
   "outputs": [],
   "source": [
    "19. Write a Python program to swap cases of a given string.\n",
    "    Data:\n",
    "        \"Python Exercises\"\n",
    "        \"Java\"\n",
    "        \"NumPy\"\n",
    "    Expected Output:\n",
    "        pYTHON eXERCISES\n",
    "        jAVA\n",
    "        nUMpY\n",
    "        \n",
    "        \n",
    "        \n",
    "        "
   ]
  },
  {
   "cell_type": "code",
   "execution_count": 13,
   "metadata": {},
   "outputs": [
    {
     "name": "stdout",
     "output_type": "stream",
     "text": [
      "Enter strings:\n"
     ]
    },
    {
     "name": "stdin",
     "output_type": "stream",
     "text": [
      " Python Exercises\n",
      " Java\n",
      " NumPy\n",
      " \n"
     ]
    },
    {
     "name": "stdout",
     "output_type": "stream",
     "text": [
      "Original: 'Python Exercises', Swapped: 'pYTHON eXERCISES'\n",
      "Original: 'Java', Swapped: 'jAVA'\n",
      "Original: 'NumPy', Swapped: 'nUMpY'\n"
     ]
    }
   ],
   "source": [
    "def swap_string_case(input_string):\n",
    "    return input_string.swapcase()\n",
    " \n",
    "print(\"Enter strings:\")\n",
    " \n",
    "data_strings = []\n",
    "while True:\n",
    "    s = input()\n",
    "    if s == \"\":\n",
    "        break\n",
    "    data_strings.append(s)\n",
    " \n",
    "for s in data_strings:\n",
    "    swapped_string = swap_string_case(s)\n",
    "    print(f\"Original: '{s}', Swapped: '{swapped_string}'\")"
   ]
  },
  {
   "cell_type": "code",
   "execution_count": null,
   "metadata": {},
   "outputs": [],
   "source": [
    "20. Write a Python program to convert a given Bytearray to Hexadecimal string.\n",
    "    Data:\n",
    "        Original Bytearray :\n",
    "        [111, 12, 45, 67, 109]\n",
    "    Expected Output:\n",
    "        Hexadecimal string:\n",
    "        6f0c2d436d\n",
    "        \n",
    "        \n",
    "        \n",
    "        "
   ]
  },
  {
   "cell_type": "code",
   "execution_count": 10,
   "metadata": {},
   "outputs": [
    {
     "name": "stdout",
     "output_type": "stream",
     "text": [
      "Hexadecimal string: 6f0c2d436d\n"
     ]
    }
   ],
   "source": [
    "original_bytearray = bytearray([111, 12, 45, 67, 109])\n",
    "hex_string = original_bytearray.hex()\n",
    "print(\"Hexadecimal string:\", hex_string)"
   ]
  },
  {
   "cell_type": "code",
   "execution_count": null,
   "metadata": {},
   "outputs": [],
   "source": []
  }
 ],
 "metadata": {
  "kernelspec": {
   "display_name": "Python 3 (ipykernel)",
   "language": "python",
   "name": "python3"
  },
  "language_info": {
   "codemirror_mode": {
    "name": "ipython",
    "version": 3
   },
   "file_extension": ".py",
   "mimetype": "text/x-python",
   "name": "python",
   "nbconvert_exporter": "python",
   "pygments_lexer": "ipython3",
   "version": "3.12.7"
  }
 },
 "nbformat": 4,
 "nbformat_minor": 4
}
