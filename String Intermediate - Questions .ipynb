{
 "cells": [
  {
   "cell_type": "markdown",
   "metadata": {},
   "source": [
    "# String Intermediate Questions "
   ]
  },
  {
   "cell_type": "code",
   "execution_count": null,
   "metadata": {},
   "outputs": [],
   "source": [
    "1. Write a Python program to count the number of each character in a string.\n",
    "    Data:\n",
    "        \"aidinasaur.com\"\n",
    "    Expected Output:\n",
    "        {'a': 3, 'i': 2, 'd': 1, 'n': 1, 's': 1, 'u': 1, 'r': 1, '.': 1, 'c': 1, 'o': 1, 'm': 1}\n",
    "        \n",
    "        \n",
    "        \n",
    "        "
   ]
  },
  {
   "cell_type": "code",
   "execution_count": 2,
   "metadata": {},
   "outputs": [
    {
     "name": "stdin",
     "output_type": "stream",
     "text": [
      "Enter a word aidinasaur.com\n"
     ]
    },
    {
     "name": "stdout",
     "output_type": "stream",
     "text": [
      "Occurrence of all characters in str is :\n",
      " {'i': 2, 'r': 1, 'm': 1, 'c': 1, 'u': 1, 'o': 1, 'd': 1, 'n': 1, 'a': 3, 's': 1, '.': 1}\n"
     ]
    }
   ],
   "source": [
    "inp_str = input(\"Enter a word\") \n",
    "out = {x : inp_str.count(x) for x in set(inp_str )} \n",
    "print (\"Occurrence of all characters in str is :\\n \"+ str(out))"
   ]
  },
  {
   "cell_type": "code",
   "execution_count": null,
   "metadata": {},
   "outputs": [],
   "source": [
    "2. Write a Python program to get a string made of the first 2 and the last 2 chars from a given a string. \n",
    "   If the string length is less than 2, return instead of the empty string.\n",
    "    Data:\n",
    "        'aidinasaur'\n",
    "        'ai'\n",
    "        'a'\n",
    "    Expected Output:\n",
    "        aiur\n",
    "        aiai\n",
    "        \n",
    "        \n",
    "        \n",
    "        "
   ]
  },
  {
   "cell_type": "code",
   "execution_count": 4,
   "metadata": {},
   "outputs": [
    {
     "name": "stdout",
     "output_type": "stream",
     "text": [
      "aiur\n",
      "aiai\n",
      "\n"
     ]
    }
   ],
   "source": [
    "def str(string):\n",
    "    if len(string) < 2:\n",
    "        return \"\"\n",
    "    else:\n",
    "        return string[:2] + string[-2:]\n",
    "print(str(\"aidinasaur\"))\n",
    "print(str(\"ai\"))\n",
    "print(str(\"a\"))"
   ]
  },
  {
   "cell_type": "code",
   "execution_count": null,
   "metadata": {},
   "outputs": [],
   "source": [
    "3. Write a Python program to get a string from a given string where all occurrences of its first char have been changed to '$',\n",
    "   except the first char itself. \n",
    "    Data:\n",
    "        'restart'\n",
    "    Expected Output:\n",
    "        resta$t\n",
    "        \n",
    "        \n",
    "        \n"
   ]
  },
  {
   "cell_type": "code",
   "execution_count": 5,
   "metadata": {},
   "outputs": [
    {
     "name": "stdout",
     "output_type": "stream",
     "text": [
      "resta$t\n"
     ]
    }
   ],
   "source": [
    "def a(str1):\n",
    "    char = str1[0]\n",
    "    str1 = str1.replace(char, '$')\n",
    "    str1 = char + str1[1:]\n",
    "    return str1\n",
    "print(a('restart'))  "
   ]
  },
  {
   "cell_type": "code",
   "execution_count": null,
   "metadata": {},
   "outputs": [],
   "source": [
    "4. Write a Python program to get a single string from two given strings, separated by a space and swap \n",
    "   the first two characters of each string. \n",
    "    Data:\n",
    "        'abc', 'xyz'\n",
    "    Expected Output:\n",
    "        xyc abz\n",
    "        \n",
    "        \n",
    "        \n"
   ]
  },
  {
   "cell_type": "code",
   "execution_count": 6,
   "metadata": {},
   "outputs": [
    {
     "name": "stdout",
     "output_type": "stream",
     "text": [
      "xyc abz\n"
     ]
    }
   ],
   "source": [
    "def c(a, b):\n",
    "    new_a = b[:2] + a[2:]\n",
    "    new_b = a[:2] + b[2:]\n",
    "    return new_a + ' ' + new_b\n",
    "print(c('abc', 'xyz'))"
   ]
  },
  {
   "cell_type": "code",
   "execution_count": null,
   "metadata": {},
   "outputs": [],
   "source": [
    "5. Write a Python program to add 'ing' at the end of a given string (length should be at least 3).If the given string already \n",
    "   ends with 'ing' then add 'ly' instead.If the string length of the given string is less than 3, leave it unchanged.\n",
    "    Data:\n",
    "        'abc'\n",
    "        'string'\n",
    "    Expected Output:\n",
    "        abcing\n",
    "        stringly\n",
    "        \n",
    "        \n",
    "        \n",
    "        "
   ]
  },
  {
   "cell_type": "code",
   "execution_count": 7,
   "metadata": {},
   "outputs": [
    {
     "name": "stdout",
     "output_type": "stream",
     "text": [
      "abcing\n",
      "stringly\n"
     ]
    }
   ],
   "source": [
    "def add_string(str1):\n",
    "    length = len(str1)\n",
    "    if length > 2:\n",
    "        if str1[-3:] == 'ing':\n",
    "            str1 += 'ly'\n",
    "        else:\n",
    "            str1 += 'ing'\n",
    "    return str1\n",
    "print(add_string('abc'))    \n",
    "print(add_string('string'))  "
   ]
  },
  {
   "cell_type": "code",
   "execution_count": 8,
   "metadata": {},
   "outputs": [
    {
     "ename": "SyntaxError",
     "evalue": "unterminated string literal (detected at line 4) (579827067.py, line 4)",
     "output_type": "error",
     "traceback": [
      "\u001b[1;36m  Cell \u001b[1;32mIn[8], line 4\u001b[1;36m\u001b[0m\n\u001b[1;33m    'The lyrics is not that poor!\u001b[0m\n\u001b[1;37m    ^\u001b[0m\n\u001b[1;31mSyntaxError\u001b[0m\u001b[1;31m:\u001b[0m unterminated string literal (detected at line 4)\n"
     ]
    }
   ],
   "source": [
    "6. Write a Python program to find the first appearance of the substring 'not' and 'poor' from a given string, if 'not' \n",
    "   follows the 'poor', replace the whole 'not'...'poor' substring with 'good'. Return the resulting string.\n",
    "    Data:\n",
    "        'The lyrics is not that poor!\n",
    "        'The lyrics is good!'\n",
    "    Expected Output:\n",
    "        The lyrics is poor!\n",
    "        The lyrics is poor!\n",
    "        \n",
    "        \n",
    "        \n",
    "        "
   ]
  },
  {
   "cell_type": "code",
   "execution_count": 12,
   "metadata": {},
   "outputs": [
    {
     "name": "stdout",
     "output_type": "stream",
     "text": [
      "The lyrics is poor!\n",
      "The lyrics is poor!\n"
     ]
    }
   ],
   "source": [
    "def not_poor_replace(s):\n",
    "    not_index = s.find('not')\n",
    "    poor_index = s.find('poor')\n",
    "    if not_index != -1 and poor_index != -1 and not_index < poor_index:\n",
    "        return s[:not_index] + 'poor' + s[poor_index+4:]\n",
    "    return s\n",
    "print(not_poor_replace('The lyrics is not that poor!'))  \n",
    "print(not_poor_replace('The lyrics is poor!'))"
   ]
  },
  {
   "cell_type": "code",
   "execution_count": null,
   "metadata": {},
   "outputs": [],
   "source": [
    "7. Write a Python function that takes a list of words and returns the longest word and the length of the longest one.\n",
    "    Data:\n",
    "        Longest word: Exercises\n",
    "    Expected Output:\n",
    "        Length of the longest word: 9\n",
    "            \n",
    "            \n",
    "            \n",
    "            "
   ]
  },
  {
   "cell_type": "code",
   "execution_count": 14,
   "metadata": {},
   "outputs": [
    {
     "name": "stdout",
     "output_type": "stream",
     "text": [
      "\n",
      "Longest word:  Exercises\n",
      "Length of the longest word:  9\n"
     ]
    }
   ],
   "source": [
    "def find_longest_word(words_list):\n",
    "    word_len = []\n",
    "    for n in words_list:\n",
    "        word_len.append((len(n), n))\n",
    "    word_len.sort()\n",
    "    return word_len[-1][0], word_len[-1][1]\n",
    "result = find_longest_word([\"HI\", \"Exercises\", \"Hello\"])\n",
    "print(\"\\nLongest word: \", result[1])\n",
    "print(\"Length of the longest word: \", result[0])"
   ]
  },
  {
   "cell_type": "code",
   "execution_count": null,
   "metadata": {},
   "outputs": [],
   "source": [
    "8. Write a Python program to count the occurrences of each word in a given sentence.\n",
    "    Data:\n",
    "        'Read and edit documents attached to emails'\n",
    "    Expected Output:\n",
    "        {'Read': 1, 'and': 1, 'edit': 1, 'documents': 1, 'attached': 1, 'to': 1, 'emails': 1}\n",
    "        \n",
    "        \n",
    "        \n",
    "        "
   ]
  },
  {
   "cell_type": "code",
   "execution_count": 18,
   "metadata": {},
   "outputs": [
    {
     "name": "stdin",
     "output_type": "stream",
     "text": [
      "enter the value of a Read and edit documents attached to emails\n"
     ]
    },
    {
     "name": "stdout",
     "output_type": "stream",
     "text": [
      "{'Read': 1, 'and': 1, 'edit': 1, 'documents': 1, 'attached': 1, 'to': 1, 'emails': 1}\n"
     ]
    }
   ],
   "source": [
    "def a(str):\n",
    "    counts = dict()\n",
    "    words = str.split()\n",
    "    for word in words:\n",
    "        if word in counts:\n",
    "            counts[word] += 1\n",
    "        else:\n",
    "            counts[word] = 1\n",
    "    return counts\n",
    "print( a(input('enter the value of a')))"
   ]
  },
  {
   "cell_type": "code",
   "execution_count": null,
   "metadata": {},
   "outputs": [],
   "source": [
    "9. Write a Python function to convert a given string to all uppercase if it contains at least 2 uppercase \n",
    "   characters in the first 4 characters.\n",
    "    Data:\n",
    "        'Python'\n",
    "        'PyThon'\n",
    "    Expected Output:\n",
    "        Python\n",
    "        PYTHON\n",
    "        \n",
    "        \n",
    "        \n",
    "        "
   ]
  },
  {
   "cell_type": "code",
   "execution_count": 21,
   "metadata": {},
   "outputs": [
    {
     "name": "stdin",
     "output_type": "stream",
     "text": [
      "Enter a value Python\n"
     ]
    },
    {
     "name": "stdout",
     "output_type": "stream",
     "text": [
      "Python\n"
     ]
    },
    {
     "name": "stdin",
     "output_type": "stream",
     "text": [
      "Enter a value PyThon\n"
     ]
    },
    {
     "name": "stdout",
     "output_type": "stream",
     "text": [
      "PYTHON\n"
     ]
    }
   ],
   "source": [
    "def a(s): \n",
    "    first_four = s[:4]    \n",
    "    uppercase_count = sum(1 for c in first_four if c.isupper())    \n",
    "    if uppercase_count >= 2:       \n",
    "        return s.upper()    \n",
    "    return s\n",
    "print(a(input(\"Enter a value\")))\n",
    "print(a(input(\"Enter a value\")))"
   ]
  },
  {
   "cell_type": "code",
   "execution_count": null,
   "metadata": {},
   "outputs": [],
   "source": [
    "10. Write a Python program to print the following floating numbers upto 2 decimal places.\n",
    "    Data:\n",
    "        x = 3.1415926\n",
    "        y = 12.9999\n",
    "    Expected Output:\n",
    "        Formatted Number: 3.14\n",
    "        Formatted Number: 13.00\n",
    "            \n",
    "            \n",
    "            \n",
    "            "
   ]
  },
  {
   "cell_type": "code",
   "execution_count": 24,
   "metadata": {},
   "outputs": [
    {
     "name": "stdin",
     "output_type": "stream",
     "text": [
      "Enter a number:  3.1415926\n",
      "Enter a number:  12.9999\n"
     ]
    },
    {
     "name": "stdout",
     "output_type": "stream",
     "text": [
      "Formatted x: 3.14\n",
      "Formatted y: 13.00\n"
     ]
    }
   ],
   "source": [
    "x = float(input(\"Enter a number: \"))\n",
    "y = float(input(\"Enter a number: \"))\n",
    "print(f\"Formatted x: {x:.2f}\")\n",
    "print(f\"Formatted y: {y:.2f}\")"
   ]
  },
  {
   "cell_type": "code",
   "execution_count": null,
   "metadata": {},
   "outputs": [],
   "source": [
    "11. Write a Python program to print the following floating numbers upto 2 decimal places with a sign.\n",
    "    Data:\n",
    "        x = 3.1415926 \n",
    "        y = -12.9999\n",
    "    Expected Output:\n",
    "        Formatted Number with sign: +3.14\n",
    "        Formatted Number with sign: -13.00\n",
    "            \n",
    "            \n",
    "            \n",
    "            "
   ]
  },
  {
   "cell_type": "code",
   "execution_count": 1,
   "metadata": {},
   "outputs": [
    {
     "name": "stdout",
     "output_type": "stream",
     "text": [
      "Formatted x (f-string): +3.14\n",
      "Formatted y (f-string): -13.00\n"
     ]
    }
   ],
   "source": [
    "x = 3.1415926 \n",
    "y = -12.9999\n",
    "print(f\"Formatted x (f-string): {x:+.2f}\")\n",
    "print(f\"Formatted y (f-string): {y:+.2f}\")\n"
   ]
  },
  {
   "cell_type": "code",
   "execution_count": null,
   "metadata": {},
   "outputs": [],
   "source": [
    "12. Write a Python program to print the following floating numbers with no decimal places.\n",
    "    Data:\n",
    "        x = 3.1415926\n",
    "        y = -12.9999\n",
    "    Expected Output:\n",
    "        Formatted Number with no decimal places: 3\n",
    "        Formatted Number with no decimal places: -13\n",
    "            \n",
    "            \n",
    "            \n",
    "            "
   ]
  },
  {
   "cell_type": "code",
   "execution_count": 2,
   "metadata": {},
   "outputs": [
    {
     "name": "stdout",
     "output_type": "stream",
     "text": [
      "3\n",
      "-13\n"
     ]
    }
   ],
   "source": [
    "x = 3.1415926\n",
    "y = -12.9999\n",
    "print(f\"{x:.0f}\")\n",
    "print(f\"{y:.0f}\")"
   ]
  },
  {
   "cell_type": "code",
   "execution_count": null,
   "metadata": {},
   "outputs": [],
   "source": [
    "13. Write a Python program to print the following integers with zeros on the left of specified width.\n",
    "    Data:\n",
    "        x = 3\n",
    "        y = 123\n",
    "    Expected Output:\n",
    "        Formatted Number(left padding, width 2): 03\n",
    "        Formatted Number(left padding, width 6): 000123\n",
    "            \n",
    "            \n",
    "            \n",
    "            "
   ]
  },
  {
   "cell_type": "code",
   "execution_count": 6,
   "metadata": {},
   "outputs": [
    {
     "name": "stdout",
     "output_type": "stream",
     "text": [
      "03\n",
      "000123\n"
     ]
    }
   ],
   "source": [
    "x = 3\n",
    "y = 123\n",
    "print(f\"{x:02d}\")\n",
    "print(f\"{y:06d}\")"
   ]
  },
  {
   "cell_type": "code",
   "execution_count": null,
   "metadata": {},
   "outputs": [],
   "source": [
    "14. Write a Python program to print the following integers with '*' on the right of specified width.\n",
    "    Data:\n",
    "        x = 3\n",
    "        y = 123\n",
    "    Expected Output:\n",
    "        Formatted Number(right padding, width 2):  3*\n",
    "        Formatted Number(right padding, width 6):  123***\n",
    "            \n",
    "            \n",
    "            \n",
    "            "
   ]
  },
  {
   "cell_type": "code",
   "execution_count": 10,
   "metadata": {},
   "outputs": [
    {
     "name": "stdin",
     "output_type": "stream",
     "text": [
      "Enter the first number:  3\n",
      "Enter the second number:  123\n"
     ]
    },
    {
     "name": "stdout",
     "output_type": "stream",
     "text": [
      "Formatted Number (right padding, width 3): 3**\n",
      "Formatted Number (right padding, width 7): 123****\n"
     ]
    }
   ],
   "source": [
    "x = int(float(input(\"Enter the first number: \")))\n",
    "y = int(float(input(\"Enter the second number: \")))\n",
    "print(\"Formatted Number (right padding, width 3): \" + \"{:*<3d}\".format(x))\n",
    "print(\"Formatted Number (right padding, width 7): \" + \"{:*<7d}\".format(y))"
   ]
  },
  {
   "cell_type": "code",
   "execution_count": null,
   "metadata": {},
   "outputs": [],
   "source": [
    "15. Write a Python program to display a number with a comma separator.\n",
    "    Data:\n",
    "        x = 3000000\n",
    "        y = 30000000\n",
    "    Expected Output:\n",
    "        Formatted Number with comma separator: 3,000,000\n",
    "        Formatted Number with comma separator: 30,000,000\n",
    "            \n",
    "            \n",
    "            \n",
    "            "
   ]
  },
  {
   "cell_type": "code",
   "execution_count": 11,
   "metadata": {},
   "outputs": [
    {
     "name": "stdin",
     "output_type": "stream",
     "text": [
      "Enter the first number:  3000000\n",
      "Enter the second number:  30000000\n"
     ]
    },
    {
     "name": "stdout",
     "output_type": "stream",
     "text": [
      "Formatted Number with comma separator: 3,000,000\n",
      "Formatted Number with comma separator: 30,000,000\n"
     ]
    }
   ],
   "source": [
    "x = int(float(input(\"Enter the first number: \")))\n",
    "y = int(float(input(\"Enter the second number: \")))\n",
    "print(\"Formatted Number with comma separator: \"+\"{:,}\".format(x))\n",
    "print(\"Formatted Number with comma separator: \"+\"{:,}\".format(y))\n"
   ]
  },
  {
   "cell_type": "code",
   "execution_count": null,
   "metadata": {},
   "outputs": [],
   "source": [
    "16. Write a Python program to format a number with a percentage.\n",
    "    Data:\n",
    "        x = 0.25\n",
    "        y = -0.25\n",
    "    Expected Output:\n",
    "        Formatted Number with percentage: 25.00%\n",
    "        Formatted Number with percentage: -25.00%\n",
    "            \n",
    "            \n",
    "            \n",
    "            "
   ]
  },
  {
   "cell_type": "code",
   "execution_count": 1,
   "metadata": {},
   "outputs": [
    {
     "name": "stdin",
     "output_type": "stream",
     "text": [
      "Enter the first number:  0.25\n",
      "Enter the second number:  -0.25\n"
     ]
    },
    {
     "name": "stdout",
     "output_type": "stream",
     "text": [
      "Formatted Number with percentage: 25.00%\n",
      "Formatted Number with percentage: -25.00%\n"
     ]
    }
   ],
   "source": [
    "x = float(input(\"Enter the first number: \"))\n",
    "y = float(input(\"Enter the second number: \"))\n",
    "print(\"Formatted Number with percentage: {:.2%}\".format(x))\n",
    "print(\"Formatted Number with percentage: {:.2%}\".format(y))\n",
    " "
   ]
  },
  {
   "cell_type": "code",
   "execution_count": null,
   "metadata": {},
   "outputs": [],
   "source": [
    "17. Write a Python program to reverse words in a string.\n",
    "    Data:\n",
    "        \"Read and edit documents attached to emails.\"\n",
    "        \"Python Exercises.\"\n",
    "    Expected Output:\n",
    "        emails. to attached documents edit and Read\n",
    "        Exercises. Python\n",
    "        \n",
    "        \n",
    "        \n",
    "        "
   ]
  },
  {
   "cell_type": "code",
   "execution_count": 3,
   "metadata": {},
   "outputs": [
    {
     "name": "stdout",
     "output_type": "stream",
     "text": [
      "emails. to attached documents edit and Read\n",
      "Exercises. Python\n"
     ]
    }
   ],
   "source": [
    "def reverse_string_words(text):    \n",
    "    return ' '.join(text.split()[::-1])\n",
    "print(reverse_string_words(\"Read and edit documents attached to emails.\"))\n",
    "print(reverse_string_words(\"Python Exercises.\"))"
   ]
  },
  {
   "cell_type": "code",
   "execution_count": null,
   "metadata": {},
   "outputs": [],
   "source": [
    "18. Write a Python program to strip vowels from a given string.\n",
    "    Data:\n",
    "        Original String:\n",
    "        \"Read and edit documents attached to emails.\"\n",
    "    Expected Output:\n",
    "        After stripping a,e,i,o,u\n",
    "        Rd nd dt dcmnts ttchd t mls.\n",
    "        \n",
    "        \n",
    "        \n",
    "        "
   ]
  },
  {
   "cell_type": "code",
   "execution_count": 1,
   "metadata": {},
   "outputs": [
    {
     "name": "stdin",
     "output_type": "stream",
     "text": [
      "Enter a string:  Read and edit documents attached to emails.\n"
     ]
    },
    {
     "name": "stdout",
     "output_type": "stream",
     "text": [
      "After stripping a,e,i,o,u\n",
      "Rd nd dt dcmnts ttchd t mls.\n"
     ]
    }
   ],
   "source": [
    "def strip_vowels(text):    \n",
    "    vowels = \"aeiouAEIOU\"    \n",
    "    return ''.join([char for char in text if char not in vowels])\n",
    "user_input = input(\"Enter a string: \")\n",
    "result = strip_vowels(user_input)\n",
    "print(\"After stripping a,e,i,o,u\")\n",
    "print(result)\n"
   ]
  },
  {
   "cell_type": "code",
   "execution_count": null,
   "metadata": {},
   "outputs": [],
   "source": [
    "19. Write a Python program to count repeated characters in a string.\n",
    "    Data:\n",
    "        string: 'thequickbrownfoxjumpsoverthelazydog'\n",
    "    Expected Output:\n",
    "        o 4\n",
    "        e 3\n",
    "        t 2\n",
    "        h 2\n",
    "        u 2\n",
    "        r 2\n",
    "        \n",
    "        \n",
    "        \n",
    "        "
   ]
  },
  {
   "cell_type": "code",
   "execution_count": 2,
   "metadata": {},
   "outputs": [
    {
     "name": "stdin",
     "output_type": "stream",
     "text": [
      "Enter a string:  thequickbrownfoxjumpsoverthelazydog\n"
     ]
    },
    {
     "name": "stdout",
     "output_type": "stream",
     "text": [
      "o 2\n",
      "o 2\n",
      "o 2\n",
      "u 2\n",
      "u 2\n",
      "u 2\n",
      "u 2\n",
      "o 3\n",
      "o 3\n",
      "o 3\n",
      "o 3\n",
      "o 3\n",
      "o 3\n",
      "e 3\n",
      "e 3\n",
      "e 3\n",
      "e 3\n",
      "e 3\n",
      "e 3\n",
      "o 4\n",
      "o 4\n"
     ]
    }
   ],
   "source": [
    "str1 = input(\"Enter a string: \")\n",
    "d = {}\n",
    "for c in str1:    \n",
    "    if c in d:        \n",
    "        d[c] += 1    \n",
    "    else:        \n",
    "        d[c] = 1\n",
    "    for c in sorted(d, key=d.get, reverse=True):   \n",
    "        if d[c] > 1:        \n",
    "            print(f\"{c} {d[c]}\")\n",
    "            break"
   ]
  },
  {
   "cell_type": "code",
   "execution_count": null,
   "metadata": {},
   "outputs": [],
   "source": [
    "20. Write a Python program to print the square and cube symbol in the area of a rectangle and volume of a cylinder.\n",
    "    Data:\n",
    "        area = 1256.66\n",
    "        volume = 1254.725\n",
    "    Expected Output:\n",
    "        The area of the rectangle is 1256.66cm2\n",
    "        The volume of the cylinder is 1254.725cm3\n",
    "        \n",
    "        \n",
    "        \n",
    "        "
   ]
  },
  {
   "cell_type": "code",
   "execution_count": 3,
   "metadata": {},
   "outputs": [
    {
     "name": "stdout",
     "output_type": "stream",
     "text": [
      "The area of the rectangle is 1256.66cm²\n",
      "The volume of the cylinder is 1254.725cm³\n"
     ]
    }
   ],
   "source": [
    "area = 1256.66\n",
    "volume = 1254.725\n",
    "\n",
    "square_symbol = \"\\u00b2\"\n",
    "cube_symbol = \"\\u00b3\"\n",
    "\n",
    "print(f\"The area of the rectangle is {area}cm{square_symbol}\")\n",
    "print(f\"The volume of the cylinder is {volume}cm{cube_symbol}\")"
   ]
  },
  {
   "cell_type": "code",
   "execution_count": null,
   "metadata": {},
   "outputs": [],
   "source": []
  }
 ],
 "metadata": {
  "kernelspec": {
   "display_name": "Python 3 (ipykernel)",
   "language": "python",
   "name": "python3"
  },
  "language_info": {
   "codemirror_mode": {
    "name": "ipython",
    "version": 3
   },
   "file_extension": ".py",
   "mimetype": "text/x-python",
   "name": "python",
   "nbconvert_exporter": "python",
   "pygments_lexer": "ipython3",
   "version": "3.12.7"
  }
 },
 "nbformat": 4,
 "nbformat_minor": 4
}
