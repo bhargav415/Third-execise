{
 "cells": [
  {
   "cell_type": "markdown",
   "metadata": {},
   "source": [
    "# While Loop Intermediate Questions"
   ]
  },
  {
   "cell_type": "code",
   "execution_count": null,
   "metadata": {},
   "outputs": [],
   "source": [
    "1. Write a Python program to get an integer within 5 from the user and\n",
    "            print the multiplication tables from that entered number until 5 using while loop.\n",
    "    Data:\n",
    "        Please Enter any Positive Integer less than 5 : \n",
    "    Expected output:\n",
    "        Please Enter any Positive Integer less than 5 : 2\n",
    "            Multiplication Table \n",
    "            1  *  2  =  2\n",
    "            2  *  2  =  4\n",
    "            3  *  2  =  6\n",
    "            4  *  2  =  8\n",
    "            5  *  2  =  10\n",
    "            6  *  2  =  12\n",
    "            7  *  2  =  14\n",
    "            8  *  2  =  16\n",
    "            9  *  2  =  18\n",
    "            10  *  2  =  20\n",
    "            ==============\n",
    "            1  *  3  =  3\n",
    "            2  *  3  =  6\n",
    "            3  *  3  =  9\n",
    "            4  *  3  =  12\n",
    "            5  *  3  =  15\n",
    "            6  *  3  =  18\n",
    "            7  *  3  =  21\n",
    "            8  *  3  =  24\n",
    "            9  *  3  =  27\n",
    "            10  *  3  =  30\n",
    "            ==============\n",
    "            1  *  4  =  4\n",
    "            2  *  4  =  8\n",
    "            3  *  4  =  12\n",
    "            4  *  4  =  16\n",
    "            5  *  4  =  20\n",
    "            6  *  4  =  24\n",
    "            7  *  4  =  28\n",
    "            8  *  4  =  32\n",
    "            9  *  4  =  36\n",
    "            10  *  4  =  40\n",
    "            ==============\n",
    "            1  *  5  =  5\n",
    "            2  *  5  =  10\n",
    "            3  *  5  =  15\n",
    "            4  *  5  =  20\n",
    "            5  *  5  =  25\n",
    "            6  *  5  =  30\n",
    "            7  *  5  =  35\n",
    "            8  *  5  =  40\n",
    "            9  *  5  =  45\n",
    "            10  *  5  =  50\n",
    "            ==============\n",
    "        \n",
    "        \n",
    "        \n",
    "        "
   ]
  },
  {
   "cell_type": "code",
   "execution_count": 1,
   "metadata": {},
   "outputs": [
    {
     "name": "stdin",
     "output_type": "stream",
     "text": [
      "Please Enter any Positive Integer less than 5 :  5\n"
     ]
    },
    {
     "name": "stdout",
     "output_type": "stream",
     "text": [
      "Invalid input. Please enter a positive integer less than 5.\n"
     ]
    },
    {
     "name": "stdin",
     "output_type": "stream",
     "text": [
      "Please Enter any Positive Integer less than 5 :  2\n"
     ]
    },
    {
     "name": "stdout",
     "output_type": "stream",
     "text": [
      "\n",
      "Multiplication Table of 2\n",
      "1  *  2  =  2\n",
      "2  *  2  =  4\n",
      "3  *  2  =  6\n",
      "4  *  2  =  8\n",
      "5  *  2  =  10\n",
      "6  *  2  =  12\n",
      "7  *  2  =  14\n",
      "8  *  2  =  16\n",
      "9  *  2  =  18\n",
      "10  *  2  =  20\n",
      "==============\n",
      "\n",
      "Multiplication Table of 3\n",
      "1  *  3  =  3\n",
      "2  *  3  =  6\n",
      "3  *  3  =  9\n",
      "4  *  3  =  12\n",
      "5  *  3  =  15\n",
      "6  *  3  =  18\n",
      "7  *  3  =  21\n",
      "8  *  3  =  24\n",
      "9  *  3  =  27\n",
      "10  *  3  =  30\n",
      "==============\n",
      "\n",
      "Multiplication Table of 4\n",
      "1  *  4  =  4\n",
      "2  *  4  =  8\n",
      "3  *  4  =  12\n",
      "4  *  4  =  16\n",
      "5  *  4  =  20\n",
      "6  *  4  =  24\n",
      "7  *  4  =  28\n",
      "8  *  4  =  32\n",
      "9  *  4  =  36\n",
      "10  *  4  =  40\n",
      "==============\n",
      "\n",
      "Multiplication Table of 5\n",
      "1  *  5  =  5\n",
      "2  *  5  =  10\n",
      "3  *  5  =  15\n",
      "4  *  5  =  20\n",
      "5  *  5  =  25\n",
      "6  *  5  =  30\n",
      "7  *  5  =  35\n",
      "8  *  5  =  40\n",
      "9  *  5  =  45\n",
      "10  *  5  =  50\n",
      "==============\n"
     ]
    }
   ],
   "source": [
    "while True:\n",
    "    try:\n",
    "        start_num = int(input(\"Please Enter any Positive Integer less than 5 : \"))\n",
    "        if 1 <= start_num < 5:\n",
    "            break\n",
    "        else:\n",
    "            print(\"Invalid input. Please enter a positive integer less than 5.\")\n",
    "    except ValueError:\n",
    "        print(\"Invalid input. Please enter an integer.\")\n",
    "\n",
    "current_num = start_num\n",
    "while current_num <= 5:\n",
    "    print(f\"\\nMultiplication Table of {current_num}\")\n",
    "    i = 1\n",
    "    while i <= 10:\n",
    "        print(f\"{i}  *  {current_num}  =  {i * current_num}\")\n",
    "        i += 1\n",
    "    print(\"==============\")\n",
    "    current_num += 1"
   ]
  },
  {
   "cell_type": "code",
   "execution_count": null,
   "metadata": {},
   "outputs": [],
   "source": [
    "2. Write a python program to display the sum of a list of numbers using while loop.\n",
    "    Data:\n",
    "        x = [10,20,30,40,50]\n",
    "    Expected output:\n",
    "        10\n",
    "        20\n",
    "        30\n",
    "        40\n",
    "        50\n",
    "        Sum=  150\n",
    "        \n",
    "        \n",
    "        \n",
    "        "
   ]
  },
  {
   "cell_type": "code",
   "execution_count": 2,
   "metadata": {},
   "outputs": [
    {
     "name": "stdout",
     "output_type": "stream",
     "text": [
      "10\n",
      "20\n",
      "30\n",
      "40\n",
      "50\n",
      "Sum= 150\n"
     ]
    }
   ],
   "source": [
    "x = [10, 20, 30, 40, 50]\n",
    "total_sum = 0\n",
    "index = 0\n",
    "\n",
    "while index < len(x):\n",
    "    print(x[index])\n",
    "    total_sum += x[index]\n",
    "    index += 1\n",
    "\n",
    "print(\"Sum=\", total_sum)"
   ]
  },
  {
   "cell_type": "code",
   "execution_count": null,
   "metadata": {},
   "outputs": [],
   "source": [
    "3. Write a python program to display even numbers between minimun and maximum range.\n",
    "    Data:\n",
    "        minimum and maximum range = 21,30\n",
    "    Expected output:\n",
    "        22\n",
    "        24\n",
    "        26\n",
    "        28\n",
    "        30\n",
    "        \n",
    "        \n",
    "        \n",
    "        "
   ]
  },
  {
   "cell_type": "code",
   "execution_count": 4,
   "metadata": {},
   "outputs": [
    {
     "name": "stdin",
     "output_type": "stream",
     "text": [
      "Enter lower limit  21\n",
      "Enter upper limit  30\n"
     ]
    },
    {
     "name": "stdout",
     "output_type": "stream",
     "text": [
      "Even numbers in the range are\n",
      "22 24 26 28 "
     ]
    }
   ],
   "source": [
    "a=int(input(\"Enter lower limit \"))\n",
    "b=int(input(\"Enter upper limit \"))\n",
    "\n",
    "print(\"Even numbers in the range are\")\n",
    "\n",
    "# loop\n",
    "\n",
    "for i in range(a,b):\n",
    "    if i%2==0:\n",
    "        print(i,end=\" \")"
   ]
  },
  {
   "cell_type": "code",
   "execution_count": null,
   "metadata": {},
   "outputs": [],
   "source": [
    "4. Write a Python program that accepts a sequence of lines (blank line to terminate) as input and\n",
    "            print the lines as output all characters in upper case.\n",
    "     Data:\n",
    "        aidinasaur\n",
    "        python\n",
    "    Expected output:\n",
    "        AIDINASAUR\n",
    "        PYTHON\n",
    "        \n",
    "        \n",
    "        \n",
    "        "
   ]
  },
  {
   "cell_type": "code",
   "execution_count": 6,
   "metadata": {},
   "outputs": [
    {
     "name": "stdin",
     "output_type": "stream",
     "text": [
      " aidinasaur\n",
      " python\n",
      " \n"
     ]
    },
    {
     "name": "stdout",
     "output_type": "stream",
     "text": [
      "AIDINASAUR\n",
      "PYTHON\n"
     ]
    }
   ],
   "source": [
    "lines = []\n",
    "while True:\n",
    "    line = input()\n",
    "    if line:\n",
    "        lines.append(line.upper())\n",
    "    else:\n",
    "        break\n",
    "\n",
    "for line in lines:\n",
    "    print(line)"
   ]
  },
  {
   "cell_type": "code",
   "execution_count": null,
   "metadata": {},
   "outputs": [],
   "source": [
    "5. Write a program that generates a random number (0-10). Ask the user to guess it and give 3 chances.\n",
    "    Data:\n",
    "        4, 5, 6\n",
    "    Expected output:\n",
    "        Enter your guess:4\n",
    "        Enter your guess:5\n",
    "        Enter your guess:6\n",
    "        You lose\n",
    "        \n",
    "        \n",
    "        \n",
    "        "
   ]
  },
  {
   "cell_type": "code",
   "execution_count": 10,
   "metadata": {},
   "outputs": [
    {
     "name": "stdin",
     "output_type": "stream",
     "text": [
      "Enter your guess:  4\n"
     ]
    },
    {
     "name": "stdout",
     "output_type": "stream",
     "text": [
      "Incorrect guess.\n"
     ]
    },
    {
     "name": "stdin",
     "output_type": "stream",
     "text": [
      "Enter your guess:  5\n"
     ]
    },
    {
     "name": "stdout",
     "output_type": "stream",
     "text": [
      "Incorrect guess.\n"
     ]
    },
    {
     "name": "stdin",
     "output_type": "stream",
     "text": [
      "Enter your guess:  6\n"
     ]
    },
    {
     "name": "stdout",
     "output_type": "stream",
     "text": [
      "Incorrect guess.\n",
      "You lose. The number was 8\n"
     ]
    }
   ],
   "source": [
    "import random\n",
    "\n",
    "def guess_the_number():\n",
    "    secret_number = random.randint(0, 10)\n",
    "    attempts = 3\n",
    "\n",
    "    for _ in range(attempts):\n",
    "        try:\n",
    "            guess = int(input(\"Enter your guess: \"))\n",
    "            if guess == secret_number:\n",
    "                print(\"You win!\")\n",
    "                return\n",
    "            else:\n",
    "                print(\"Incorrect guess.\")\n",
    "        except ValueError:\n",
    "            print(\"Invalid input. Please enter a number.\")\n",
    "\n",
    "    print(f\"You lose. The number was {secret_number}\")\n",
    "\n",
    "guess_the_number()"
   ]
  },
  {
   "cell_type": "code",
   "execution_count": null,
   "metadata": {},
   "outputs": [],
   "source": [
    "6. Write a Python program to check the validity of password entered by a user.\n",
    "    Data:\n",
    "        Input your password: salem23\n",
    "    Expected output:\n",
    "        Not a Valid Password\n",
    "        \n",
    "        \n",
    "        \n",
    "        "
   ]
  },
  {
   "cell_type": "code",
   "execution_count": 1,
   "metadata": {},
   "outputs": [
    {
     "name": "stdin",
     "output_type": "stream",
     "text": [
      "Input your password:  u7ovemyDog@20#\n"
     ]
    },
    {
     "name": "stdout",
     "output_type": "stream",
     "text": [
      "Password Accepted\n"
     ]
    }
   ],
   "source": [
    "special = \"@#$%!&\"\n",
    " \n",
    "while True:\n",
    "    password = input(\"Input your password: \")\n",
    "    if (\n",
    "        8 <= len(password) <= 15\n",
    "        and any(c.islower() for c in password)\n",
    "        and any(c.isupper() for c in password)\n",
    "        and any(c.isdigit() for c in password)\n",
    "        and any(c in special for c in password)\n",
    "        and not any(c.isspace() for c in password)\n",
    "    ):\n",
    "        print(\"Password Accepted\")\n",
    "        break\n",
    "    else:\n",
    "        print(\"Not a Valid Password\")"
   ]
  },
  {
   "cell_type": "code",
   "execution_count": null,
   "metadata": {},
   "outputs": [],
   "source": [
    "7. Write a Python program to check whether the entered alphabet is a vowel or a consonant.\n",
    "    Data:\n",
    "        Input a letter of the alphabet: a\n",
    "        Input a letter of the alphabet: G\n",
    "    Expected Output: \n",
    "        a is a vowel.\n",
    "        G is a consonant.\n",
    "        \n",
    "        \n",
    "        \n",
    "        "
   ]
  },
  {
   "cell_type": "code",
   "execution_count": 14,
   "metadata": {},
   "outputs": [
    {
     "name": "stdin",
     "output_type": "stream",
     "text": [
      "Input a letter of the alphabet:  a\n"
     ]
    },
    {
     "name": "stdout",
     "output_type": "stream",
     "text": [
      "a is a vowel.\n"
     ]
    },
    {
     "name": "stdin",
     "output_type": "stream",
     "text": [
      "Input a letter of the alphabet:  G\n"
     ]
    },
    {
     "name": "stdout",
     "output_type": "stream",
     "text": [
      "G is a consonant.\n"
     ]
    }
   ],
   "source": [
    "def check_vowel_consonant(letter):\n",
    "  \"\"\"Checks if a letter is a vowel or consonant.\"\"\"\n",
    "\n",
    "  vowels = \"aeiouAEIOU\"\n",
    "  if letter.isalpha():\n",
    "    if letter in vowels:\n",
    "      return f\"{letter} is a vowel.\"\n",
    "    else:\n",
    "      return f\"{letter} is a consonant.\"\n",
    "  else:\n",
    "    return \"Invalid input. Please enter a letter of the alphabet.\"\n",
    "letter1 = input(\"Input a letter of the alphabet: \")\n",
    "print(check_vowel_consonant(letter1))\n",
    "\n",
    "letter2 = input(\"Input a letter of the alphabet: \")\n",
    "print(check_vowel_consonant(letter2))"
   ]
  },
  {
   "cell_type": "code",
   "execution_count": null,
   "metadata": {},
   "outputs": [],
   "source": [
    "8. Write a Python program to calculate the sum and average of n integer numbers (input from the user). Input 0 to finish. \n",
    "    Data:\n",
    "        12,13,15,0\n",
    "    Expected output:\n",
    "        Average and Sum of the above numbers are:  13.333333333333334 40.0\n",
    "            \n",
    "            \n",
    "            \n",
    "            "
   ]
  },
  {
   "cell_type": "code",
   "execution_count": 16,
   "metadata": {},
   "outputs": [
    {
     "name": "stdout",
     "output_type": "stream",
     "text": [
      "Input some integers to calculate their sum and average. Input 0 to exit.\n"
     ]
    },
    {
     "name": "stdin",
     "output_type": "stream",
     "text": [
      " 12\n",
      " 13\n",
      " 15\n",
      " 0\n"
     ]
    },
    {
     "name": "stdout",
     "output_type": "stream",
     "text": [
      "Average and Sum of the above numbers are:  13.333333333333334 40.0\n"
     ]
    }
   ],
   "source": [
    "print(\"Input some integers to calculate their sum and average. Input 0 to exit.\")\n",
    "count = 0\n",
    "sum = 0.0\n",
    "number = 1\n",
    "while number != 0:\n",
    "    number = int(input(\"\"))\n",
    "    sum = sum + number\n",
    "    count += 1\n",
    "if count == 0:\n",
    "    print(\"Input some numbers\")\n",
    "else:\n",
    "    print(\"Average and Sum of the above numbers are: \", sum / (count-1), sum)"
   ]
  },
  {
   "cell_type": "code",
   "execution_count": null,
   "metadata": {},
   "outputs": [],
   "source": [
    "9. Write a python program to display fibonacci series up to 10 terms.\n",
    "    Data:\n",
    "        terms = 7\n",
    "    Expected output:\n",
    "        Fibonacci sequence:\n",
    "        0 1 1 2 3 5 8 \n",
    "        \n",
    "        \n",
    "        \n",
    "        "
   ]
  },
  {
   "cell_type": "code",
   "execution_count": 2,
   "metadata": {},
   "outputs": [
    {
     "name": "stdout",
     "output_type": "stream",
     "text": [
      "Fibonacci sequence: 0 1 1 2 3 5 8 \n"
     ]
    }
   ],
   "source": [
    "def fibonacci_series_while(terms):\n",
    "    if terms <= 0:\n",
    "        print(\"Please enter a positive integer for the number of terms.\")\n",
    "        return\n",
    "\n",
    "    a, b = 0, 1\n",
    "    count = 0\n",
    "\n",
    "    print(\"Fibonacci sequence:\", end=\" \")\n",
    "    while count < terms:\n",
    "        print(a, end=\" \")\n",
    "        nth = a + b\n",
    "        a = b\n",
    "        b = nth\n",
    "        count += 1\n",
    "    print() # For a new line after the sequence\n",
    "terms = 7\n",
    "fibonacci_series_while(terms)"
   ]
  },
  {
   "cell_type": "code",
   "execution_count": null,
   "metadata": {},
   "outputs": [],
   "source": [
    "10. Write a python program to print the reverse of a given integer number.\n",
    "    Data:\n",
    "        x = 987654\n",
    "    Expected output:\n",
    "        Given Number:  987654\n",
    "        Reversed Number:  456789\n",
    "            \n",
    "            \n",
    "            \n",
    "            "
   ]
  },
  {
   "cell_type": "code",
   "execution_count": 18,
   "metadata": {},
   "outputs": [
    {
     "name": "stdout",
     "output_type": "stream",
     "text": [
      "Reversed Number: 456789\n"
     ]
    }
   ],
   "source": [
    "num = 987654\n",
    "reversed_num = 0\n",
    "\n",
    "while num != 0:\n",
    "    digit = num % 10\n",
    "    reversed_num = reversed_num * 10 + digit\n",
    "    num //= 10\n",
    "\n",
    "print(\"Reversed Number: \" + str(reversed_num))"
   ]
  },
  {
   "cell_type": "code",
   "execution_count": null,
   "metadata": {},
   "outputs": [],
   "source": [
    "11. Write a python function(digit_sum) that takes a positive integer n as input and returns the sum of all that number's digits.\n",
    "    Data:\n",
    "        Digit_sum(892)\n",
    "    Expected output:\n",
    "        19\n",
    "        \n",
    "        \n",
    "        \n",
    "        "
   ]
  },
  {
   "cell_type": "code",
   "execution_count": 3,
   "metadata": {},
   "outputs": [
    {
     "name": "stdout",
     "output_type": "stream",
     "text": [
      "19\n"
     ]
    }
   ],
   "source": [
    "def digit_sum(n):\n",
    "    total = 0\n",
    "    while n > 0:\n",
    "        total += n % 10\n",
    "        n //= 10\n",
    "    return total\n",
    "print(digit_sum(892))  "
   ]
  },
  {
   "cell_type": "code",
   "execution_count": null,
   "metadata": {},
   "outputs": [],
   "source": [
    "12. Write a program that generates 100 random numbers (in the range of 1-1000) and keeps a count of how many of those random \n",
    "    numbers are even and how many are odd.\n",
    "    Data:\n",
    "        1-1000\n",
    "    Expected output:\n",
    "        Out of 100 Random Numbers, 50 were even and 50 were add\n",
    "        \n",
    "        \n",
    "        \n",
    "        "
   ]
  },
  {
   "cell_type": "code",
   "execution_count": 5,
   "metadata": {},
   "outputs": [
    {
     "name": "stdout",
     "output_type": "stream",
     "text": [
      "Out of 100 Random Numbers, 49 were even and 51 were odd\n"
     ]
    }
   ],
   "source": [
    "import random\n",
    " \n",
    "even_count = 0\n",
    "odd_count = 0\n",
    "i = 0\n",
    " \n",
    "while i < 100:\n",
    "    num = random.randint(1, 1000)\n",
    "    if num % 2 == 0:\n",
    "        even_count += 1\n",
    "    else:\n",
    "        odd_count += 1\n",
    "    i += 1\n",
    " \n",
    "print(f\"Out of 100 Random Numbers, {even_count} were even and {odd_count} were odd\")"
   ]
  },
  {
   "cell_type": "code",
   "execution_count": null,
   "metadata": {},
   "outputs": [],
   "source": [
    "13. Write a program that generates 100 random numbers (in the range of 1-1000) and \n",
    "            keeps a count of how many of those random numbers are even and how many are odd.\n",
    "    Data:\n",
    "        3 times\n",
    "    Expected output:\n",
    "        Out of 100 Random Numbers, 46 were even and 54 were Odd\n",
    "        Out of 100 Random Numbers, 46 were even and 54 were Odd\n",
    "        Out of 100 Random Numbers, 46 were even and 54 were Odd\n",
    "    \n",
    "    \n",
    "    \n",
    "    "
   ]
  },
  {
   "cell_type": "code",
   "execution_count": 12,
   "metadata": {},
   "outputs": [
    {
     "name": "stdout",
     "output_type": "stream",
     "text": [
      "Out of 100 Random Numbers, 54 were even and 46 were Odd\n",
      "Out of 100 Random Numbers, 49 were even and 51 were Odd\n",
      "Out of 100 Random Numbers, 45 were even and 55 were Odd\n"
     ]
    }
   ],
   "source": [
    "import random\n",
    " \n",
    "repeat = 0\n",
    "while repeat < 3:\n",
    "    even_count = 0\n",
    "    odd_count = 0\n",
    "    i = 0\n",
    "    while i < 100:\n",
    "        num = random.randint(1, 1000)\n",
    "        if num % 2 == 0:\n",
    "            even_count += 1\n",
    "        else:\n",
    "            odd_count += 1\n",
    "        i += 1\n",
    "    print(f\"Out of 100 Random Numbers, {even_count} were even and {odd_count} were Odd\")\n",
    "    repeat += 1"
   ]
  },
  {
   "cell_type": "code",
   "execution_count": null,
   "metadata": {},
   "outputs": [],
   "source": [
    "14. Write a python program to find the factorial of any number entered by the user.\n",
    "    Data:\n",
    "        3\n",
    "    Expected output:\n",
    "        6\n",
    "        \n",
    "        \n",
    "        \n",
    "        "
   ]
  },
  {
   "cell_type": "code",
   "execution_count": 6,
   "metadata": {},
   "outputs": [
    {
     "name": "stdin",
     "output_type": "stream",
     "text": [
      "Enter a number:  3\n"
     ]
    },
    {
     "name": "stdout",
     "output_type": "stream",
     "text": [
      "The factorial of 3 is 6.\n"
     ]
    }
   ],
   "source": [
    "num = int(input(\"Enter a number: \"))\n",
    "factorial = 1\n",
    "i = 1\n",
    "if num < 0:\n",
    "    print(\"Factorial does not exist for negative numbers.\")\n",
    "elif num == 0:\n",
    "    print(\"The factorial of 0 is 1.\")\n",
    "else:\n",
    "    while i <= num:\n",
    "        factorial *= i  \n",
    "        i += 1          \n",
    "    print(f\"The factorial of {num} is {factorial}.\")"
   ]
  },
  {
   "cell_type": "code",
   "execution_count": null,
   "metadata": {},
   "outputs": [],
   "source": [
    "15. Write a program to find (GCD) or (HCF) of two given number.\n",
    "    Data:\n",
    "        10\n",
    "        20\n",
    "    Expected output:     \n",
    "        Enter the first number:10\n",
    "        Enter the second number:20\n",
    "        10\n",
    "        \n",
    "        \n",
    "        \n",
    "        "
   ]
  },
  {
   "cell_type": "code",
   "execution_count": 20,
   "metadata": {},
   "outputs": [
    {
     "name": "stdout",
     "output_type": "stream",
     "text": [
      "GCD of 10 and 20 is 10\n"
     ]
    }
   ],
   "source": [
    "def gcd(a, b):\n",
    "    result = min(a, b)\n",
    "    while result:\n",
    "        if a % result == 0 and b % result == 0:\n",
    "            break\n",
    "        result -= 1\n",
    "\n",
    "    \n",
    "    return result\n",
    "\n",
    "\n",
    "\n",
    "if __name__ == '__main__':\n",
    "    a = 10\n",
    "    b = 20\n",
    "    print(f\"GCD of {a} and {b} is {gcd(a, b)}\")"
   ]
  },
  {
   "cell_type": "code",
   "execution_count": null,
   "metadata": {},
   "outputs": [],
   "source": [
    "16. Write a python program to calcute the sum of digits of a number given by user.\n",
    "    Data:\n",
    "        Enter a number:1234\n",
    "    Expected output:\n",
    "        10\n",
    "        \n",
    "        \n",
    "        \n",
    "        "
   ]
  },
  {
   "cell_type": "code",
   "execution_count": 22,
   "metadata": {},
   "outputs": [
    {
     "name": "stdout",
     "output_type": "stream",
     "text": [
      "10\n"
     ]
    }
   ],
   "source": [
    "num = 1234\n",
    "sum = 0\n",
    "\n",
    "while num!=0:\n",
    "\tdigit = int(num%10)\n",
    "\tsum += digit\n",
    "\tnum = num/10\n",
    "\n",
    "print(sum)"
   ]
  },
  {
   "cell_type": "code",
   "execution_count": null,
   "metadata": {},
   "outputs": [],
   "source": [
    "17. Write a python program to find prime factor of a number entered by a user.\n",
    "    Data:\n",
    "        10\n",
    "    Expected output:\n",
    "        2\n",
    "        5\n",
    "        \n",
    "        \n",
    "        \n",
    "        "
   ]
  },
  {
   "cell_type": "code",
   "execution_count": 7,
   "metadata": {},
   "outputs": [
    {
     "name": "stdout",
     "output_type": "stream",
     "text": [
      "[2, 5]\n"
     ]
    }
   ],
   "source": [
    "def Prime_Factorial(n):\n",
    "    if n < 4:\n",
    "        return n\n",
    "    arr = []\n",
    "    while n > 1:\n",
    "        for i in range(2, int(2+n//2)):\n",
    "            if i == (1 + n // 2):\n",
    "                arr.append(n)\n",
    "                n = n // n\n",
    "            if n % i == 0:\n",
    "                arr.append(i)\n",
    "                n = n // i\n",
    "                break\n",
    "    return arr\n",
    "\n",
    "\n",
    "n = 10\n",
    "print(Prime_Factorial(n))"
   ]
  },
  {
   "cell_type": "code",
   "execution_count": null,
   "metadata": {},
   "outputs": [],
   "source": [
    "18. Write a python program to print the total number of digits present in a number entered by the user.\n",
    "    Data:\n",
    "        x = 257845\n",
    "    Expected output:\n",
    "        Total digits are:  6\n",
    "            \n",
    "            \n",
    "            \n",
    "            "
   ]
  },
  {
   "cell_type": "code",
   "execution_count": 8,
   "metadata": {},
   "outputs": [
    {
     "name": "stdin",
     "output_type": "stream",
     "text": [
      "Enter a number:  257845\n"
     ]
    },
    {
     "name": "stdout",
     "output_type": "stream",
     "text": [
      "Total number of digits: 6\n"
     ]
    }
   ],
   "source": [
    "number = int(input(\"Enter a number: \"))\n",
    "count = 0\n",
    "if number == 0:\n",
    "    count = 1\n",
    "else:\n",
    "    temp_number = abs(number) \n",
    "    while temp_number > 0:\n",
    "        temp_number = temp_number // 10\n",
    "        count += 1\n",
    "print(\"Total number of digits:\", count)"
   ]
  },
  {
   "cell_type": "code",
   "execution_count": 25,
   "metadata": {},
   "outputs": [
    {
     "name": "stdout",
     "output_type": "stream",
     "text": [
      "Number of digits: 6\n"
     ]
    }
   ],
   "source": [
    "num = 257845\n",
    "count = 0\n",
    "\n",
    "while num != 0:\n",
    "    num //= 10\n",
    "    count += 1\n",
    "\n",
    "print(\"Number of digits: \" + str(count))"
   ]
  },
  {
   "cell_type": "code",
   "execution_count": null,
   "metadata": {},
   "outputs": [],
   "source": [
    "''' 19. create a temporary list inside outer for/while loop which you can fill inside inner for/while loop.\n",
    "    Data:\n",
    "        count=0\n",
    "    Expected output:\n",
    "        [[0, 0, 0, 0, 0, 0, 0, 0, 0, 0], \n",
    "         [0, 0, 0, 0, 0, 0, 0, 0, 0, 0], \n",
    "         [0, 0, 0, 0, 0, 0, 0, 0, 0, 0], \n",
    "         [0, 0, 0, 0, 0, 0, 0, 0, 0, 0], \n",
    "         [0, 0, 0, 0, 0, 0, 0, 0, 0, 0]] '''\n",
    "\n",
    "#Didnt understand the question        \n",
    "        "
   ]
  },
  {
   "cell_type": "code",
   "execution_count": 10,
   "metadata": {},
   "outputs": [
    {
     "name": "stdout",
     "output_type": "stream",
     "text": [
      "[[0, 0, 0, 0, 0, 0, 0, 0, 0, 0], [0, 0, 0, 0, 0, 0, 0, 0, 0, 0], [0, 0, 0, 0, 0, 0, 0, 0, 0, 0], [0, 0, 0, 0, 0, 0, 0, 0, 0, 0], [0, 0, 0, 0, 0, 0, 0, 0, 0, 0]]\n"
     ]
    }
   ],
   "source": [
    "outer_list = []\n",
    "for i in range(5):\n",
    "    inner_list = []\n",
    "    for j in range(10):\n",
    "        inner_list.append(0)\n",
    "    outer_list.append(inner_list)\n",
    "\n",
    "print(outer_list)"
   ]
  },
  {
   "cell_type": "code",
   "execution_count": null,
   "metadata": {},
   "outputs": [],
   "source": [
    "20. Write a Python program to create a histogram from a given list of integers.\n",
    "    Data:\n",
    "        [2, 3, 12, 5]\n",
    "    Expected output:\n",
    "        **\n",
    "        ***\n",
    "        ************\n",
    "        *****\n",
    "        \n",
    "        \n",
    "        \n",
    "        "
   ]
  },
  {
   "cell_type": "code",
   "execution_count": 11,
   "metadata": {},
   "outputs": [
    {
     "name": "stdout",
     "output_type": "stream",
     "text": [
      "**\n",
      "***\n",
      "************\n",
      "*****\n"
     ]
    }
   ],
   "source": [
    "def create_histogram(data):\n",
    "    for value in data:\n",
    "        print('*' * value)\n",
    "data_list = [2, 3, 12, 5]\n",
    "create_histogram(data_list)"
   ]
  },
  {
   "cell_type": "code",
   "execution_count": null,
   "metadata": {},
   "outputs": [],
   "source": []
  }
 ],
 "metadata": {
  "kernelspec": {
   "display_name": "Python 3 (ipykernel)",
   "language": "python",
   "name": "python3"
  },
  "language_info": {
   "codemirror_mode": {
    "name": "ipython",
    "version": 3
   },
   "file_extension": ".py",
   "mimetype": "text/x-python",
   "name": "python",
   "nbconvert_exporter": "python",
   "pygments_lexer": "ipython3",
   "version": "3.12.7"
  }
 },
 "nbformat": 4,
 "nbformat_minor": 4
}
