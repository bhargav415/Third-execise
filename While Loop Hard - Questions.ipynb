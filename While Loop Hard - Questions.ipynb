{
 "cells": [
  {
   "cell_type": "markdown",
   "metadata": {},
   "source": [
    "# While Loop Hard Questions"
   ]
  },
  {
   "cell_type": "code",
   "execution_count": null,
   "metadata": {},
   "outputs": [],
   "source": [
    "1. Write a Python program to find the least common multiple (LCM) of two given integers.\n",
    "    Data:\n",
    "        lcm(4, 6)\n",
    "        lcm(15, 17)\n",
    "    Expected Output:\n",
    "        12\n",
    "        255\n",
    "        \n",
    "        \n",
    "        \n",
    "        "
   ]
  },
  {
   "cell_type": "code",
   "execution_count": 1,
   "metadata": {},
   "outputs": [
    {
     "name": "stdout",
     "output_type": "stream",
     "text": [
      "12\n",
      "255\n"
     ]
    }
   ],
   "source": [
    "def find_gcd(a, b):\n",
    "    while(b):\n",
    "        a, b = b, a % b\n",
    "    return a\n",
    "\n",
    "def find_lcm(a, b):\n",
    "    if a == 0 or b == 0:\n",
    "        return 0  \n",
    "    else:\n",
    "        gcd = find_gcd(a, b)\n",
    "        lcm = (a * b) // gcd  \n",
    "        return lcm\n",
    "\n",
    "print(find_lcm(4, 6))\n",
    "print(find_lcm(15, 17))"
   ]
  },
  {
   "cell_type": "code",
   "execution_count": null,
   "metadata": {},
   "outputs": [],
   "source": [
    "2. Write a Python function that takes a positive integer and returns the sum of the cube of all the positive integers \n",
    "   smaller than the specified number.\n",
    "    Data:\n",
    "        3\n",
    "    Expected Output:\n",
    "        Sum of cubes:  9\n",
    "            \n",
    "            \n",
    "            \n",
    "            "
   ]
  },
  {
   "cell_type": "code",
   "execution_count": 2,
   "metadata": {},
   "outputs": [
    {
     "name": "stdout",
     "output_type": "stream",
     "text": [
      "Sum of cubes smaller than the specified number:  9\n"
     ]
    }
   ],
   "source": [
    "def sum_of_cubes(n):\n",
    "    n -= 1\n",
    "    total = 0\n",
    "    while n > 0:\n",
    "        total += n * n * n\n",
    "        n -= 1\n",
    "    return total\n",
    "\n",
    "print(\"Sum of cubes smaller than the specified number: \", sum_of_cubes(3))\n"
   ]
  },
  {
   "cell_type": "code",
   "execution_count": null,
   "metadata": {},
   "outputs": [],
   "source": [
    "3. Write a Python program to remove and print every third number from a list of numbers until the list becomes empty.\n",
    "    Data:\n",
    "        nums = [10,20,30,40,50,60,70,80,90]\n",
    "    Expected Output:\n",
    "        30\n",
    "        60\n",
    "        90\n",
    "        40\n",
    "        80\n",
    "        50\n",
    "        20\n",
    "        70\n",
    "        10\n",
    "        \n",
    "        \n",
    "        \n",
    "        "
   ]
  },
  {
   "cell_type": "code",
   "execution_count": 3,
   "metadata": {},
   "outputs": [
    {
     "name": "stdout",
     "output_type": "stream",
     "text": [
      "30 60 90 40 80 50 20 70 10 \n"
     ]
    }
   ],
   "source": [
    "def remove_and_print_every_third(nums):\n",
    "    position = 2 \n",
    "    current_index = 0\n",
    "\n",
    "    while len(nums) > 0:\n",
    "        current_index = (position + current_index) % len(nums)\n",
    "        removed_element = nums.pop(current_index)\n",
    "        print(removed_element, end=\" \")\n",
    "nums = [10, 20, 30, 40, 50, 60, 70, 80, 90]\n",
    "remove_and_print_every_third(nums)\n",
    "print() "
   ]
  },
  {
   "cell_type": "code",
   "execution_count": null,
   "metadata": {},
   "outputs": [],
   "source": [
    "4. Write a Python program to find unique triplets whose three elements gives the sum of zero from an array of n integers.\n",
    "    Data:\n",
    "        x = [1, -6, 4, 2, -1, 2, 0, -2, 0 ]\n",
    "    Expected Output:\n",
    "        [(-6, 2, 4)]\n",
    "        \n",
    "        \n",
    "        \n",
    "        "
   ]
  },
  {
   "cell_type": "code",
   "execution_count": 4,
   "metadata": {},
   "outputs": [
    {
     "name": "stdin",
     "output_type": "stream",
     "text": [
      "Enter numbers separated by spaces:  1 -6 4 2 -1 2 0 -2 0 \n"
     ]
    },
    {
     "name": "stdout",
     "output_type": "stream",
     "text": [
      "[(-6, 2, 4), (-2, 0, 2), (-1, 0, 1)]\n"
     ]
    }
   ],
   "source": [
    "def three_sum(nums):\n",
    "    result = []\n",
    "    nums.sort()\n",
    "    i = 0\n",
    "    n = len(nums)\n",
    "    while i < n - 2:\n",
    "        if i > 0 and nums[i] == nums[i - 1]:\n",
    "            i += 1\n",
    "            continue\n",
    "        l = i + 1\n",
    "        r = n - 1\n",
    "        while l < r:\n",
    "            s = nums[i] + nums[l] + nums[r]\n",
    "            if s > 0:\n",
    "                r -= 1\n",
    "            elif s < 0:\n",
    "                l += 1\n",
    "            else:\n",
    "                result.append((nums[i], nums[l], nums[r]))\n",
    "                # Skip duplicates for l\n",
    "                while l < r and nums[l] == nums[l + 1]:\n",
    "                    l += 1\n",
    "                # Skip duplicates for r\n",
    "                while l < r and nums[r] == nums[r - 1]:\n",
    "                    r -= 1\n",
    "                l += 1\n",
    "                r -= 1\n",
    "        i += 1\n",
    "    return result\n",
    " \n",
    "user_input = input(\"Enter numbers: \")\n",
    "nums = [int(x) for x in user_input.split()]\n",
    "print(three_sum(nums))\n"
   ]
  },
  {
   "cell_type": "code",
   "execution_count": null,
   "metadata": {},
   "outputs": [],
   "source": [
    "5. Write a Python program to find the value of n where n degrees of number 2 are written sequentially in a line without spaces.\n",
    "    Data:\n",
    "        \"2481632\"\n",
    "        \"248163264\"\n",
    "    Expected Output:\n",
    "        5\n",
    "        6\n",
    "        \n",
    "        \n",
    "        \n",
    "        "
   ]
  },
  {
   "cell_type": "code",
   "execution_count": 5,
   "metadata": {},
   "outputs": [
    {
     "name": "stdin",
     "output_type": "stream",
     "text": [
      "Enter the concatenated powers of 2 string:  2481632\n"
     ]
    },
    {
     "name": "stdout",
     "output_type": "stream",
     "text": [
      "5\n"
     ]
    }
   ],
   "source": [
    "def find_n_for_powers_of_2(concat_str):\n",
    "    s = \"\"\n",
    "    n = 1\n",
    "    while len(s) < len(concat_str):\n",
    "        s += str(2 ** n)\n",
    "        if s == concat_str:\n",
    "            return n\n",
    "        n += 1\n",
    "    return None  \n",
    "user_input = input(\"Enter the concatenated powers of 2 string: \")\n",
    "result = find_n_for_powers_of_2(user_input)\n",
    "print(result)"
   ]
  },
  {
   "cell_type": "code",
   "execution_count": null,
   "metadata": {},
   "outputs": [],
   "source": [
    "6. Write a Python program that accept a positive number and subtract from this number the sum of its digits and so on. \n",
    "   Continues this operation until the number is positive.\n",
    "    Data:\n",
    "        9\n",
    "        21\n",
    "    Expected Output:\n",
    "        1\n",
    "        3\n",
    "        \n",
    "        \n",
    "        \n",
    "        "
   ]
  },
  {
   "cell_type": "code",
   "execution_count": null,
   "metadata": {},
   "outputs": [],
   "source": [
    "7. Write a Python program to compute the summation of the absolute difference of all distinct pairs in an given array \n",
    "   (non-decreasing order).\n",
    "    Data:\n",
    "        [1, 2, 3]\n",
    "        [1,4,5]\n",
    "    Expected Output:\n",
    "        4\n",
    "        8\n",
    "        \n",
    "        \n",
    "        \n"
   ]
  },
  {
   "cell_type": "code",
   "execution_count": 9,
   "metadata": {},
   "outputs": [
    {
     "name": "stdout",
     "output_type": "stream",
     "text": [
      "4\n",
      "8\n"
     ]
    }
   ],
   "source": [
    "def sum_distinct_pairs(arr):\n",
    "    result = 0\n",
    "    i = 0\n",
    "    while i < len(arr):\n",
    "        result += i * arr[i] - (len(arr) - i - 1) * arr[i]\n",
    "        i += 1\n",
    "    \n",
    "    \n",
    "    return result\n",
    "\n",
    "print(sum_distinct_pairs([1, 2, 3]))\n",
    "print(sum_distinct_pairs([1, 4, 5]))\n"
   ]
  },
  {
   "cell_type": "code",
   "execution_count": null,
   "metadata": {},
   "outputs": [],
   "source": [
    "8. Write a Python program to find common divisors between two numbers in a given pair.\n",
    "    Data:\n",
    "        (2, 4)\n",
    "        (2, 8)\n",
    "        (12, 24)\n",
    "    Expected Output:\n",
    "        Number of common divisors:  2\n",
    "        Number of common divisors:  2\n",
    "        Number of common divisors:  6\n",
    "            \n",
    "            \n",
    "            \n",
    "            "
   ]
  },
  {
   "cell_type": "code",
   "execution_count": null,
   "metadata": {},
   "outputs": [],
   "source": [
    "9. Write a Python program to reverse the digits of a given number and add it to the original,If the sum is not a palindrome \n",
    "   repeat this procedure.\n",
    "    Data:\n",
    "        1234\n",
    "        1473\n",
    "        121\n",
    "    Expected Output:\n",
    "        5555\n",
    "        9339\n",
    "        121\n",
    "        \n",
    "        \n",
    "        "
   ]
  },
  {
   "cell_type": "code",
   "execution_count": 10,
   "metadata": {},
   "outputs": [
    {
     "name": "stdout",
     "output_type": "stream",
     "text": [
      "Input: 1234, Output: 5555\n",
      "Input: 1473, Output: 9339\n",
      "Input: 121, Output: 121\n"
     ]
    }
   ],
   "source": [
    "def reverse_and_add_to_palindrome(n):\n",
    "    current_number = n\n",
    "    while True:\n",
    "        s_current_number = str(current_number)\n",
    "        if s_current_number == s_current_number[::-1]:\n",
    "            return current_number\n",
    "        else:\n",
    "            reversed_number = int(s_current_number[::-1])\n",
    "            current_number += reversed_number\n",
    "print(f\"Input: 1234, Output: {reverse_and_add_to_palindrome(1234)}\")\n",
    "print(f\"Input: 1473, Output: {reverse_and_add_to_palindrome(1473)}\")\n",
    "print(f\"Input: 121, Output: {reverse_and_add_to_palindrome(121)}\")"
   ]
  },
  {
   "cell_type": "code",
   "execution_count": null,
   "metadata": {},
   "outputs": [],
   "source": [
    "10. Write a Python program to find the maximum sum of a contiguous subsequence from a given sequence of \n",
    "    numbers a1, a2, a3, ... an. A subsequence of one element is also a continuous subsequence.\n",
    "    Expected Output:\n",
    "        Input number of sequence of numbers you want to input (0 to exit):\n",
    "        2\n",
    "        Input numbers:\n",
    "        6\n",
    "        4\n",
    "        Maximum sum of the said contiguous subsequence:\n",
    "        10\n",
    "        Input number of sequence of numbers you want to input (0 to exit):\n",
    "        0\n",
    "        \n",
    "        \n",
    "        \n",
    "        "
   ]
  },
  {
   "cell_type": "code",
   "execution_count": null,
   "metadata": {},
   "outputs": [],
   "source": [
    "11. Write a Python program that reads n digits (given) chosen from 0 to 9 and prints the number of combinations \n",
    "    where the sum of the digits equals to another given number (s). Do not use the same digits in a combination. \n",
    "    Expected Output:\n",
    "        Input number of combinations and sum, input 0 0 to exit:\n",
    "        4 6\n",
    "        2 4\n",
    "        0 0\n",
    "        2\n",
    "        \n",
    "        \n",
    "        \n",
    "        "
   ]
  },
  {
   "cell_type": "code",
   "execution_count": null,
   "metadata": {},
   "outputs": [],
   "source": [
    "12. Write a Python program to compute the sum of first n given prime numbers.\n",
    "    Expected Output:\n",
    "        Input a number (n≤10000) to compute the sum:(0 to exit)\n",
    "        50\n",
    "        Sum of first 50 prime numbers:\n",
    "        5117\n",
    "        3456\n",
    "        Sum of first 3456 prime numbers:\n",
    "        52238131\n",
    "        0\n",
    "        \n",
    "        \n",
    "        \n",
    "        "
   ]
  },
  {
   "cell_type": "code",
   "execution_count": 11,
   "metadata": {},
   "outputs": [
    {
     "name": "stdin",
     "output_type": "stream",
     "text": [
      "Input a number (n≤10000) to compute the sum:(0 to exit)  50\n"
     ]
    },
    {
     "name": "stdout",
     "output_type": "stream",
     "text": [
      "Sum of first 50 prime numbers: 5117\n"
     ]
    },
    {
     "name": "stdin",
     "output_type": "stream",
     "text": [
      "Input a number (n≤10000) to compute the sum:(0 to exit)  3456\n"
     ]
    },
    {
     "name": "stdout",
     "output_type": "stream",
     "text": [
      "Sum of first 3456 prime numbers: 52238131\n"
     ]
    },
    {
     "name": "stdin",
     "output_type": "stream",
     "text": [
      "Input a number (n≤10000) to compute the sum:(0 to exit)  \n"
     ]
    },
    {
     "name": "stdout",
     "output_type": "stream",
     "text": [
      "Invalid input. Please enter an integer.\n"
     ]
    },
    {
     "name": "stdin",
     "output_type": "stream",
     "text": [
      "Input a number (n≤10000) to compute the sum:(0 to exit)  \n"
     ]
    },
    {
     "name": "stdout",
     "output_type": "stream",
     "text": [
      "Invalid input. Please enter an integer.\n"
     ]
    },
    {
     "name": "stdin",
     "output_type": "stream",
     "text": [
      "Input a number (n≤10000) to compute the sum:(0 to exit)  exit\n"
     ]
    },
    {
     "name": "stdout",
     "output_type": "stream",
     "text": [
      "Invalid input. Please enter an integer.\n"
     ]
    },
    {
     "name": "stdin",
     "output_type": "stream",
     "text": [
      "Input a number (n≤10000) to compute the sum:(0 to exit)  0\n"
     ]
    }
   ],
   "source": [
    "def is_prime(num):\n",
    "    \n",
    "    if num < 2:\n",
    "        return False\n",
    "    for i in range(2, int(num**0.5) + 1):\n",
    "        if num % i == 0:\n",
    "            return False\n",
    "    return True\n",
    "\n",
    "def sum_first_n_primes(n):\n",
    "    prime_sum = 0\n",
    "    count = 0\n",
    "    num = 2 \n",
    "\n",
    "    while count < n:\n",
    "        if is_prime(num):\n",
    "            prime_sum += num\n",
    "            count += 1\n",
    "        num += 1\n",
    "    return prime_sum\n",
    "\n",
    "if __name__ == \"__main__\":\n",
    "    while True:\n",
    "        try:\n",
    "            n = int(input(\"Input a number (n≤10000) to compute the sum:(0 to exit) \"))\n",
    "            if n == 0:\n",
    "                break\n",
    "            elif 1 <= n <= 10000:\n",
    "                result = sum_first_n_primes(n)\n",
    "                print(f\"Sum of first {n} prime numbers: {result}\")\n",
    "            else:\n",
    "                print(\"Please enter a number between 0 and 10000.\")\n",
    "        except ValueError:\n",
    "            print(\"Invalid input. Please enter an integer.\")\n"
   ]
  },
  {
   "cell_type": "code",
   "execution_count": null,
   "metadata": {},
   "outputs": [],
   "source": [
    "13. Write a Python program to restore the original string by entering the compressed string with this rule. However, \n",
    "    the character does not appear in the restored character string. \n",
    "    Data:\n",
    "        XY#6Z1#4023\n",
    "        #39+1=1#30\n",
    "    Expected Output:\n",
    "        Original text: XY#6Z1#4023\n",
    "        XYZZZZZZ1000023\n",
    "        Original text: #39+1=1#30\n",
    "        999+1=1000\n",
    "        \n",
    "        \n",
    "        \n",
    "        "
   ]
  },
  {
   "cell_type": "code",
   "execution_count": 13,
   "metadata": {},
   "outputs": [
    {
     "name": "stdout",
     "output_type": "stream",
     "text": [
      "Original text: XY#6Z1#4023\n",
      "XYZZZZZZ1\n",
      "\n",
      "Original text: #39+1=1#30\n",
      "+++++++++++++++++++++++++++++++++++++++1=1\n",
      "\n"
     ]
    }
   ],
   "source": [
    "def restore_string(compressed):\n",
    "    result = []\n",
    "    i = 0\n",
    "    while i < len(compressed):\n",
    "        if compressed[i] == '#':\n",
    "            # Find the full number after '#'\n",
    "            j = i + 1\n",
    "            num_str = ''\n",
    "            while j < len(compressed) and compressed[j].isdigit():\n",
    "                num_str += compressed[j]\n",
    "                j += 1\n",
    "            if num_str and j < len(compressed):\n",
    "                count = int(num_str)\n",
    "                char_to_repeat = compressed[j]\n",
    "                result.append(char_to_repeat * count)\n",
    "                i = j + 1\n",
    "            elif num_str:  # '#' at the end with number but no char\n",
    "                i = j\n",
    "            else:\n",
    "                result.append('#')\n",
    "                i += 1\n",
    "        else:\n",
    "            result.append(compressed[i])\n",
    "            i += 1\n",
    "    return ''.join(result)\n",
    " \n",
    "data = [\n",
    "    \"XY#6Z1#4023\",\n",
    "    \"#39+1=1#30\"\n",
    "]\n",
    " \n",
    "for s in data:\n",
    "    print(f\"Original text: {s}\")\n",
    "    print(restore_string(s))\n",
    "    print()"
   ]
  },
  {
   "cell_type": "code",
   "execution_count": null,
   "metadata": {},
   "outputs": [],
   "source": [
    "14. Write a Python program to find the number of combinations that satisfy p + q + r + s = n where n is a given \n",
    "    number <= 4000 and p, q, r, s in the range of 0 to 1000. \n",
    "    Expected Output:\n",
    "        Input a positive integer: (ctrl+d to exit)\n",
    "        343\n",
    "        Number of combinations of a,b,c,d: 6843880\n",
    "        d\n",
    "        \n",
    "        \n",
    "        \n",
    "        "
   ]
  },
  {
   "cell_type": "code",
   "execution_count": 16,
   "metadata": {},
   "outputs": [
    {
     "name": "stdin",
     "output_type": "stream",
     "text": [
      "Input a positive integer: (ctrl+d to exit)\n",
      " 343\n"
     ]
    },
    {
     "name": "stdout",
     "output_type": "stream",
     "text": [
      "Number of combinations of a,b,c,d: 6843880\n"
     ]
    }
   ],
   "source": [
    "n = int(input(\"Input a positive integer: (ctrl+d to exit)\\n\"))\n",
    "count = 0\n",
    "p = 0\n",
    "while p <= 1000:\n",
    "    q = 0\n",
    "    while q <= 1000:\n",
    "        t = n - p - q\n",
    "        if 0 <= t <= 2000:\n",
    "            min_r = max(0, t - 1000)\n",
    "            max_r = min(1000, t)\n",
    "            count += max_r - min_r + 1\n",
    "        q += 1\n",
    "    p += 1\n",
    "print(f\"Number of combinations of a,b,c,d: {count}\")"
   ]
  },
  {
   "cell_type": "code",
   "execution_count": null,
   "metadata": {},
   "outputs": [],
   "source": [
    "15. Write a Python program which adds up columns and rows of given table as shown in the specified figure.\n",
    "    Input number of rows/columns (0 to exit)\n",
    "    Data:\n",
    "        Input cell value:\n",
    "        34 86 45 56\n",
    "        12 23 45 67\n",
    "    Expected Output:\n",
    "        Input number of rows/columns (0 to exit)\n",
    "        2\n",
    "        Input cell value:\n",
    "        34 86 45 56\n",
    "        12 23 45 67\n",
    "        Result:\n",
    "        34   86   45\n",
    "        12   23   45\n",
    "        46  109   90\n",
    "        Input number of rows/columns (0 to exit)\n",
    "        0\n",
    "        \n",
    "        \n",
    "        \n",
    "        "
   ]
  },
  {
   "cell_type": "code",
   "execution_count": null,
   "metadata": {},
   "outputs": [],
   "source": [
    "16. Write a Python program to calculate Euclid's totient function of a given integer. Use a primitive method to \n",
    "    calculate Euclid's totient function.\n",
    "    Data:\n",
    "        (10)\n",
    "        (15)\n",
    "        (33)\n",
    "    Expected Output:\n",
    "        4\n",
    "        8\n",
    "        20\n",
    "        \n",
    "        \n",
    "        \n",
    "        "
   ]
  },
  {
   "cell_type": "code",
   "execution_count": null,
   "metadata": {},
   "outputs": [],
   "source": [
    "17. Write a Python program to check if two given numbers are coprime or not. Return True if two numbers are coprime \n",
    "    otherwise return false. Go to the editor\n",
    "    Data:\n",
    "        (17, 13)\n",
    "        (15, 21)\n",
    "        (25, 45)\n",
    "    Expected Output:\n",
    "        True\n",
    "        True\n",
    "        False\n",
    "        False\n",
    "        \n",
    "        \n",
    "        \n",
    "        "
   ]
  },
  {
   "cell_type": "code",
   "execution_count": null,
   "metadata": {},
   "outputs": [],
   "source": [
    "18. Write a Python program to print a given N by M matrix of numbers line by line in forward > backwards > forward >... order.\n",
    "    Data:\n",
    "        Input matrix:\n",
    "            [[1, 2, 3,4],\n",
    "             [5, 6, 7, 8],\n",
    "             [0, 6, 2, 8],\n",
    "             [2, 3, 0, 2]]\n",
    "    Expected Output:\n",
    "        1\n",
    "        2\n",
    "        3\n",
    "        4\n",
    "        8\n",
    "        7\n",
    "        6\n",
    "        5\n",
    "        0\n",
    "        6\n",
    "        2\n",
    "        8\n",
    "        2\n",
    "        0\n",
    "        3\n",
    "        2\n",
    "        \n",
    "        \n",
    "        \n",
    "        "
   ]
  },
  {
   "cell_type": "code",
   "execution_count": null,
   "metadata": {},
   "outputs": [],
   "source": [
    "19. Write a Python program to remove all instances of a given value from a given array of integers and find the length of \n",
    "    the new array.\n",
    "    Data:\n",
    "        ([1, 2, 3, 4, 5, 6, 7, 5], 5)\n",
    "        ([10,10,10,10,10], 10)\n",
    "        ([10,10,10,10,10], 20)\n",
    "        ([], 1)\n",
    "    Expected Output:\n",
    "        6\n",
    "        0\n",
    "        5\n",
    "        0\n",
    "        \n",
    "        \n",
    "        \n",
    "        "
   ]
  }
 ],
 "metadata": {
  "kernelspec": {
   "display_name": "Python 3 (ipykernel)",
   "language": "python",
   "name": "python3"
  },
  "language_info": {
   "codemirror_mode": {
    "name": "ipython",
    "version": 3
   },
   "file_extension": ".py",
   "mimetype": "text/x-python",
   "name": "python",
   "nbconvert_exporter": "python",
   "pygments_lexer": "ipython3",
   "version": "3.12.7"
  }
 },
 "nbformat": 4,
 "nbformat_minor": 4
}
