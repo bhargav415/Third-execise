{
 "cells": [
  {
   "cell_type": "markdown",
   "metadata": {},
   "source": [
    "# For Loop Hard Questions"
   ]
  },
  {
   "cell_type": "code",
   "execution_count": 1,
   "metadata": {},
   "outputs": [],
   "source": [
    "''' 1. Write a Python program to compute the greatest common divisor (GCD) of two positive integers.\n",
    "    Data:\n",
    "        gcd(22, 27)\n",
    "        gcd(4, 3344)\n",
    "    Expected Output:\n",
    "        1\n",
    "        4 '''\n",
    "        \n",
    "        \n",
    "        \n",
    "        "
   ]
  },
  {
   "cell_type": "code",
   "execution_count": 2,
   "metadata": {},
   "outputs": [
    {
     "name": "stdout",
     "output_type": "stream",
     "text": [
      "1\n",
      "4\n"
     ]
    }
   ],
   "source": [
    "def gcd(a, b):\n",
    "  while b:\n",
    "    a, b = b, a % b\n",
    "  return a\n",
    "print(gcd(22, 27))\n",
    "print(gcd(4, 3344))"
   ]
  },
  {
   "cell_type": "code",
   "execution_count": 2,
   "metadata": {},
   "outputs": [],
   "source": [
    "''' 2. Write a Python program to get the least common multiple (LCM) of two positive integers.\n",
    "    Data:\n",
    "        lcm(4, 6)\n",
    "        lcm(15, 27)\n",
    "    Expected Output:\n",
    "        12\n",
    "        135 '''\n",
    "        \n",
    "        \n",
    "        \n",
    "        "
   ]
  },
  {
   "cell_type": "code",
   "execution_count": 3,
   "metadata": {},
   "outputs": [
    {
     "name": "stdout",
     "output_type": "stream",
     "text": [
      "12\n",
      "255\n"
     ]
    }
   ],
   "source": [
    "\n",
    "def lcm(x, y):\n",
    "\n",
    "    if x > y:\n",
    "        z = x\n",
    "    else:\n",
    "        z = y\n",
    "    while True:\n",
    "        if (z % x == 0) and (z % y == 0):\n",
    "            lcm = z\n",
    "            break\n",
    "        z += 1\n",
    "    return lcm\n",
    "\n",
    "# Calculate and print the LCM of 4 and 6.\n",
    "print(lcm(4, 6))\n",
    "# Calculate and print the LCM of 15 and 17.\n",
    "print(lcm(15, 17))\n"
   ]
  },
  {
   "cell_type": "code",
   "execution_count": null,
   "metadata": {},
   "outputs": [],
   "source": [
    "''' 3. Write a Python program to find the list of words that are longer than a specified number from the given list.\n",
    "    Data:\n",
    "        lt = [\"The Read and edit documents attached to emails\"]\n",
    "        number = 3\n",
    "    Expected Output:\n",
    "        ['Read', 'edit', 'documents', 'attached', 'emails'] '''\n",
    "        \n",
    "        \n",
    "        \n",
    "        "
   ]
  },
  {
   "cell_type": "code",
   "execution_count": 4,
   "metadata": {},
   "outputs": [
    {
     "name": "stdout",
     "output_type": "stream",
     "text": [
      "['Read', 'edit', 'documents', 'attached', 'emails']\n",
      "['Read', 'edit', 'documents', 'attached', 'emails']\n"
     ]
    }
   ],
   "source": [
    "def find_long_words(word_list, min_length):\n",
    "    long_words_list = []\n",
    "    for word in word_list:\n",
    "        if len(word) > min_length:\n",
    "            long_words_list.append(word)\n",
    "    return long_words_list\n",
    "lt = [\"The\", \"Read\", \"and\", \"edit\", \"documents\", \"attached\", \"to\", \"emails\"]\n",
    "number = 3\n",
    "result = find_long_words(lt, number)\n",
    "print(result)\n",
    "\n",
    "lt_str = \"The Read and edit documents attached to emails\"\n",
    "words = lt_str.split()\n",
    "result_str = find_long_words(words, number)\n",
    "print(result_str)"
   ]
  },
  {
   "cell_type": "code",
   "execution_count": 3,
   "metadata": {},
   "outputs": [],
   "source": [
    "''' 4. Write a Python function that takes two lists as parameters and returns True if they have at least one element in common, none if not.\n",
    "    Data:\n",
    "        (a, b) = ([1,2,3,4,5], [5,6,7,8,9])\n",
    "        (a, b) =([1,2,3,4,5], [6,7,8,9])\n",
    "    Expected Output:\n",
    "        True\n",
    "        None '''\n",
    "        \n",
    "        \n",
    "        \n",
    "        "
   ]
  },
  {
   "cell_type": "code",
   "execution_count": 5,
   "metadata": {},
   "outputs": [
    {
     "name": "stdout",
     "output_type": "stream",
     "text": [
      "True\n",
      "None\n"
     ]
    }
   ],
   "source": [
    "def has_common_element(list1, list2):\n",
    "  for element in list1:\n",
    "    if element in list2:\n",
    "      return True\n",
    "  return None\n",
    "a = [1, 2, 3, 4, 5]\n",
    "b = [5, 6, 7, 8, 9]\n",
    "print(has_common_element(a, b))\n",
    "\n",
    "a = [1, 2, 3, 4, 5]\n",
    "b = [6, 7, 8, 9]\n",
    "print(has_common_element(a, b))"
   ]
  },
  {
   "cell_type": "code",
   "execution_count": 4,
   "metadata": {},
   "outputs": [],
   "source": [
    "''' 5. Write a Python program to generate all sublists of a list.\n",
    "    Data:\n",
    "        Original list:\n",
    "        x = [10, 20, 30, 40]\n",
    "        y = ['X', 'Y', 'Z']\n",
    "    Expected Output:\n",
    "        Sublists of the said list:\n",
    "        [[], [1], [2], [1, 2], [3], [1, 3], [2, 3], [1, 2, 3]]\n",
    "        [[], ['x'], ['y'], ['x', 'y'], ['z'], ['x', 'z'], ['y', 'z'], ['x', 'y', 'z']] '''\n",
    "        \n",
    "        \n",
    "        \n",
    "        "
   ]
  },
  {
   "cell_type": "code",
   "execution_count": 7,
   "metadata": {},
   "outputs": [
    {
     "name": "stdout",
     "output_type": "stream",
     "text": [
      "[10, 20, 30, 40]\n",
      "Sublists of the said list:\n",
      "[[], [10], [20], [30], [40], [10, 20], [10, 30], [10, 40], [20, 30], [20, 40], [30, 40], [10, 20, 30], [10, 20, 40], [10, 30, 40], [20, 30, 40], [10, 20, 30, 40]]\n",
      "\n",
      "Original list:\n",
      "['X', 'Y', 'Z']\n",
      "Sublists of the said list:\n",
      "[[], ['X'], ['Y'], ['Z'], ['X', 'Y'], ['X', 'Z'], ['Y', 'Z'], ['X', 'Y', 'Z']]\n"
     ]
    }
   ],
   "source": [
    "from itertools import combinations\n",
    "def sub_lists(my_list):\n",
    "    subs = []  \n",
    "    for i in range(0, len(my_list) + 1):\n",
    "        temp = [list(x) for x in combinations(my_list, i)]\n",
    "        if len(temp) > 0:\n",
    "            subs.extend(temp)\n",
    "\n",
    "    return subs  \n",
    "\n",
    "l1 = [10, 20, 30, 40]\n",
    "l2 = ['X', 'Y', 'Z']\n",
    "print(l1)\n",
    "print(\"Sublists of the said list:\")\n",
    "print(sub_lists(l1))\n",
    "print(\"\\nOriginal list:\")\n",
    "print(l2)\n",
    "print(\"Sublists of the said list:\")\n",
    "print(sub_lists(l2))\n"
   ]
  },
  {
   "cell_type": "code",
   "execution_count": 5,
   "metadata": {},
   "outputs": [],
   "source": [
    "''' 6. Write a Python program to print all the prime numbers upto a specified number using Sieve of Eratosthenes method.\n",
    "    Data:\n",
    "        x = 10\n",
    "    Expected Output:\n",
    "        2\n",
    "        3\n",
    "        5\n",
    "        7\n",
    "        None '''\n",
    "        \n",
    "        \n",
    "        \n",
    "        "
   ]
  },
  {
   "cell_type": "code",
   "execution_count": 9,
   "metadata": {},
   "outputs": [
    {
     "name": "stdin",
     "output_type": "stream",
     "text": [
      "Enter the upper limit to find primes:  10\n"
     ]
    },
    {
     "name": "stdout",
     "output_type": "stream",
     "text": [
      "2\n",
      "3\n",
      "5\n",
      "7\n",
      "None\n"
     ]
    }
   ],
   "source": [
    "def prime_eratosthenes(n):\n",
    "    if n < 2:\n",
    "        print(None)\n",
    "        return\n",
    "    sieve = [True] * (n + 1)\n",
    "    for i in range(2, n + 1):\n",
    "        if sieve[i]:\n",
    "            print(i)\n",
    "            for j in range(i * i, n + 1, i):\n",
    "                sieve[j] = False\n",
    "    print(None)\n",
    "\n",
    "x = int(input(\"Enter the upper limit to find primes: \"))\n",
    "prime_eratosthenes(x)\n"
   ]
  },
  {
   "cell_type": "code",
   "execution_count": 6,
   "metadata": {},
   "outputs": [],
   "source": [
    "''' 7. Write a Python program to generate the combinations of n distinct objects taken from the elements of a given list..\n",
    "    Data:\n",
    "        Original list:\n",
    "        [1, 2, 3, 4, 5, 6, 7, 8, 9]\n",
    "    Expected Output:\n",
    "        [1, 2][1, 3][1, 4][1, 5][1, 6][1, 7][1, 8][1, 9][2, 3]\n",
    "        [2, 4][2, 5][2, 6][2, 7][2, 8][2, 9][3, 4][3, 5][3, 6]\n",
    "        [3, 7][3, 8][3, 9][4, 5][4, 6][4, 7][4, 8][4, 9][5, 6]\n",
    "        [5, 7][5, 8][5, 9][6, 7][6, 8][6, 9][7, 8][7, 9][8, 9] '''\n",
    "\n",
    "        \n",
    "        \n",
    "        \n",
    "        "
   ]
  },
  {
   "cell_type": "code",
   "execution_count": 10,
   "metadata": {},
   "outputs": [
    {
     "name": "stdout",
     "output_type": "stream",
     "text": [
      "[(1, 2), (1, 3), (1, 4), (1, 5), (1, 6), (1, 7), (1, 8), (1, 9), (2, 3), (2, 4), (2, 5), (2, 6), (2, 7), (2, 8), (2, 9), (3, 4), (3, 5), (3, 6), (3, 7), (3, 8), (3, 9), (4, 5), (4, 6), (4, 7), (4, 8), (4, 9), (5, 6), (5, 7), (5, 8), (5, 9), (6, 7), (6, 8), (6, 9), (7, 8), (7, 9), (8, 9)]\n"
     ]
    }
   ],
   "source": [
    "from itertools import combinations\n",
    "\n",
    "def generate_combinations(data, r):\n",
    "  return list(combinations(data, r))\n",
    "data = [1, 2, 3, 4, 5, 6, 7, 8, 9]\n",
    "r = 2\n",
    "combinations_list = generate_combinations(data, r)\n",
    "print(combinations_list)"
   ]
  },
  {
   "cell_type": "code",
   "execution_count": 7,
   "metadata": {},
   "outputs": [],
   "source": [
    "''' 8. Write a Python program to create a multidimensional list (lists of lists) with zeros.\n",
    "    Expected Output:\n",
    "        Multidimensional list:\n",
    "        [[0, 0], [0, 0], [0, 0]] '''\n",
    "        \n",
    "        \n",
    "        \n",
    "        "
   ]
  },
  {
   "cell_type": "code",
   "execution_count": 11,
   "metadata": {},
   "outputs": [
    {
     "name": "stdout",
     "output_type": "stream",
     "text": [
      "Multidimensional list:\n",
      "[[0, 0], [0, 0], [0, 0]]\n"
     ]
    }
   ],
   "source": [
    "nums = []\n",
    "for i in range(3):\n",
    "    nums.append([])\n",
    "    for j in range(2):\n",
    "        nums[i].append(0)\n",
    "print(\"Multidimensional list:\")\n",
    "print(nums)\n"
   ]
  },
  {
   "cell_type": "code",
   "execution_count": 8,
   "metadata": {},
   "outputs": [],
   "source": [
    "''' 9. Write a Python program to create a 3X3 grid with numbers following given range(3). \n",
    "    Expected Output:\n",
    "        3X3 grid with numbers:\n",
    "        [[1, 2, 3], [1, 2, 3], [1, 2, 3]] '''\n",
    "        \n",
    "        \n",
    "        \n",
    "        "
   ]
  },
  {
   "cell_type": "code",
   "execution_count": 12,
   "metadata": {},
   "outputs": [
    {
     "name": "stdout",
     "output_type": "stream",
     "text": [
      "3X3 grid with numbers:\n",
      "[[1, 2, 3], [1, 2, 3], [1, 2, 3]]\n"
     ]
    }
   ],
   "source": [
    "grid = []\n",
    "for _ in range(3):\n",
    "    row = list(range(1, 4))\n",
    "    grid.append(row)\n",
    "\n",
    "print(\"3X3 grid with numbers:\")\n",
    "print(grid)"
   ]
  },
  {
   "cell_type": "code",
   "execution_count": null,
   "metadata": {},
   "outputs": [],
   "source": [
    "''' 10. Write a Python program to print the sum of each column in a matrix. Accept matrix rows, \n",
    "            columns and elements for each column separated with a space for every row as input from the user.\n",
    "    Data:\n",
    "        Input rows: 3\n",
    "        Input columns: 3\n",
    "        Input number of elements in a row (1, 2, 3): \n",
    "        2 2 2\n",
    "        3 3 3\n",
    "        4 4 4\n",
    "    Expected Output:\n",
    "        sum for each column:\n",
    "        9  9  9  '''\n",
    "        \n",
    "        \n",
    "        \n",
    "        "
   ]
  },
  {
   "cell_type": "code",
   "execution_count": 14,
   "metadata": {},
   "outputs": [
    {
     "name": "stdin",
     "output_type": "stream",
     "text": [
      "Input rows:  3\n",
      "Input columns:  3\n"
     ]
    },
    {
     "name": "stdout",
     "output_type": "stream",
     "text": [
      "Input 3 elements for each row separated by a space:\n"
     ]
    },
    {
     "name": "stdin",
     "output_type": "stream",
     "text": [
      "Input number of elements in a row (1):  2 2 2\n",
      "Input number of elements in a row (2):  3 3 3\n",
      "Input number of elements in a row (3):  4 4 4\n"
     ]
    },
    {
     "name": "stdout",
     "output_type": "stream",
     "text": [
      "sum for each column: 9 9 9\n"
     ]
    }
   ],
   "source": [
    "def sum_columns_in_matrix():\n",
    "    try:\n",
    "        rows = int(input(\"Input rows: \"))\n",
    "        columns = int(input(\"Input columns: \"))\n",
    "    except ValueError:\n",
    "        print(\"Invalid input for rows or columns. Please enter integers.\")\n",
    "        return\n",
    "\n",
    "    matrix = []\n",
    "    print(f\"Input {columns} elements for each row separated by a space:\")\n",
    "    for i in range(rows):\n",
    "        while True:\n",
    "            try:\n",
    "                row_elements_str = input(f\"Input number of elements in a row ({i+1}): \")\n",
    "                row_elements = list(map(int, row_elements_str.split()))\n",
    "                if len(row_elements) != columns:\n",
    "                    print(f\"Please enter exactly {columns} elements for this row.\")\n",
    "                else:\n",
    "                    matrix.append(row_elements)\n",
    "                    break\n",
    "            except ValueError:\n",
    "                print(\"Invalid input. Please enter space-separated integers for row elements.\")\n",
    "\n",
    "    column_sums = [0] * columns\n",
    "\n",
    "    for r in range(rows):\n",
    "        for c in range(columns):\n",
    "            column_sums[c] += matrix[r][c]\n",
    "\n",
    "    print(\"sum for each column:\", *column_sums)\n",
    "sum_columns_in_matrix()"
   ]
  },
  {
   "cell_type": "code",
   "execution_count": 9,
   "metadata": {},
   "outputs": [],
   "source": [
    "''' 11. Write a Python program to count the number of sublists that contains a particular element.\n",
    "    Data:\n",
    "        Original list:\n",
    "        [[1, 3], [5, 7], [1, 11], [1, 15, 7]]\n",
    "    Expected Output:\n",
    "        Count 1 in the said list: 3\n",
    "        Count 7 in the said list: 2 '''\n",
    "        \n",
    "        \n",
    "        \n",
    "        "
   ]
  },
  {
   "cell_type": "code",
   "execution_count": 15,
   "metadata": {},
   "outputs": [
    {
     "name": "stdout",
     "output_type": "stream",
     "text": [
      "Count 1 in the said list: 3\n",
      "Count 7 in the said list: 2\n"
     ]
    }
   ],
   "source": [
    "def count_sublists_with_element(data, element):\n",
    "    count = 0\n",
    "    for sublist in data:\n",
    "        if element in sublist:\n",
    "            count += 1\n",
    "    return count\n",
    "\n",
    "original_list = [[1, 3], [5, 7], [1, 11], [1, 15, 7]]\n",
    "element_1 = 1\n",
    "element_7 = 7\n",
    "\n",
    "count_1 = count_sublists_with_element(original_list, element_1)\n",
    "count_7 = count_sublists_with_element(original_list, element_7)\n",
    "\n",
    "print(f\"Count {element_1} in the said list: {count_1}\")\n",
    "print(f\"Count {element_7} in the said list: {count_7}\")"
   ]
  },
  {
   "cell_type": "code",
   "execution_count": null,
   "metadata": {},
   "outputs": [],
   "source": [
    "''' 12. Write a Python program to count integer in a given mixed list.\n",
    "    Data:\n",
    "        list:[1, 'abcd', 3, 1.2, 4, 'xyz', 5, 'pqr', 7, -5, -12.22]\n",
    "    Expected Output:\n",
    "        Number of integers in the said mixed list:\n",
    "        6 '''\n",
    "        \n",
    "        \n",
    "        \n",
    "        "
   ]
  },
  {
   "cell_type": "code",
   "execution_count": 16,
   "metadata": {},
   "outputs": [
    {
     "name": "stdout",
     "output_type": "stream",
     "text": [
      "Number of integers in the said mixed list: 6\n"
     ]
    }
   ],
   "source": [
    "def count_integers(data):\n",
    "    count = 0\n",
    "    for element in data:\n",
    "        if isinstance(element, int):\n",
    "            count += 1\n",
    "    return count\n",
    "data = [1, 'abcd', 3, 1.2, 4, 'xyz', 5, 'pqr', 7, -5, -12.22]\n",
    "num_integers = count_integers(data)\n",
    "print(f\"Number of integers in the said mixed list: {num_integers}\")"
   ]
  },
  {
   "cell_type": "code",
   "execution_count": null,
   "metadata": {},
   "outputs": [],
   "source": [
    "''' 13. Write a Python program to find an element with maximum occurrences in a given list. \n",
    "    Data:\n",
    "        list:[2, 3, 8, 4, 7, 9, 8, 2, 6, 5, 1, 6, 1, 2, 3, 4, 6, 9, 1, 2]\n",
    "    Expected Output:\n",
    "        Item with maximum occurrences of the said list:\n",
    "        2 '''\n",
    "    \n",
    "    \n",
    "    \n",
    "    "
   ]
  },
  {
   "cell_type": "code",
   "execution_count": 17,
   "metadata": {},
   "outputs": [
    {
     "name": "stdout",
     "output_type": "stream",
     "text": [
      "Item with maximum occurrences of the said list: 2\n"
     ]
    }
   ],
   "source": [
    "from collections import Counter\n",
    "\n",
    "def find_most_frequent(data):\n",
    "    counts = Counter(data)\n",
    "    return counts.most_common(1)[0][0]\n",
    "\n",
    "data = [2, 3, 8, 4, 7, 9, 8, 2, 6, 5, 1, 6, 1, 2, 3, 4, 6, 9, 1, 2]\n",
    "most_frequent_element = find_most_frequent(data)\n",
    "print(f\"Item with maximum occurrences of the said list: {most_frequent_element}\")"
   ]
  },
  {
   "cell_type": "code",
   "execution_count": null,
   "metadata": {},
   "outputs": [],
   "source": [
    "''' 14. Write a Python program to remove those items which contain a special character or specified string from the given list.\n",
    "    Data:\n",
    "        list1: ['Red color', 'Orange#', 'Green', 'Orange @', 'White']\n",
    "    Expected Output:\n",
    "        Character list:\n",
    "        ['#', 'color', '@']\n",
    "\n",
    "        New list:\n",
    "        ['Red', '', 'Green', 'Orange', 'White'] '''\n",
    "        \n",
    "        \n",
    "        \n",
    "        "
   ]
  },
  {
   "cell_type": "code",
   "execution_count": 18,
   "metadata": {},
   "outputs": [
    {
     "name": "stdout",
     "output_type": "stream",
     "text": [
      "Character list: ['color', '#', '@']\n",
      "New list: ['Red', 'Orange', 'Green', 'Orange', 'White']\n"
     ]
    }
   ],
   "source": [
    "def remove_and_extract(data_list, characters_to_remove):\n",
    "    extracted_characters = []\n",
    "    new_list = []\n",
    "\n",
    "    for item in data_list:\n",
    "        modified_item = item\n",
    "        found_character = False\n",
    "        for char_to_remove in characters_to_remove:\n",
    "            if char_to_remove in modified_item:\n",
    "                extracted_characters.append(char_to_remove)\n",
    "                modified_item = modified_item.replace(char_to_remove, '')\n",
    "                found_character = True\n",
    "        new_list.append(modified_item.strip()) # .strip() removes leading/trailing spaces\n",
    "\n",
    "    return extracted_characters, new_list\n",
    "list1 = ['Red color', 'Orange#', 'Green', 'Orange @', 'White']\n",
    "special_chars = ['#', 'color', '@']\n",
    "extracted, new_data = remove_and_extract(list1, special_chars)\n",
    "print(f\"Character list: {extracted}\")\n",
    "print(f\"New list: {new_data}\")"
   ]
  },
  {
   "cell_type": "code",
   "execution_count": null,
   "metadata": {},
   "outputs": [],
   "source": [
    "''' 15. Write a Python program to calculate the sum of the numbers in a list between the specified range of indices.\n",
    "    Data:\n",
    "        list:[2, 1, 5, 6, 8, 3, 4, 9, 10, 11, 8, 12]\n",
    "    Expected Output:\n",
    "        Range: 8 , 10\n",
    "        Sum of the specified range: 29 '''\n",
    "        \n",
    "        \n",
    "        \n",
    "        "
   ]
  },
  {
   "cell_type": "code",
   "execution_count": 19,
   "metadata": {},
   "outputs": [
    {
     "name": "stdout",
     "output_type": "stream",
     "text": [
      "Original list:\n",
      "[2, 1, 5, 6, 8, 3, 4, 9, 10, 11, 8, 12]\n",
      "Range: 8 , 10\n",
      "\n",
      "Sum of the specified range:\n",
      "29\n"
     ]
    }
   ],
   "source": [
    "def sum_Range_list(nums, m, n):\n",
    "    sum_range = 0\n",
    "    for i in range(m, n+1, 1):\n",
    "        sum_range += nums[i]\n",
    "    \n",
    "    return sum_range\n",
    "nums = [2, 1, 5, 6, 8, 3, 4, 9, 10, 11, 8, 12]\n",
    "print(\"Original list:\")\n",
    "print(nums)\n",
    "m = 8\n",
    "n = 10\n",
    "print(\"Range:\", m, \",\", n)\n",
    "print(\"\\nSum of the specified range:\")\n",
    "print(sum_Range_list(nums, m, n))  \n"
   ]
  },
  {
   "cell_type": "code",
   "execution_count": 10,
   "metadata": {},
   "outputs": [],
   "source": [
    "''' 16. Write a Python program to reverse each list in a given list of lists.\n",
    "    Data:\n",
    "        Original list of lists:\n",
    "        nums = [[1, 2, 3, 4], [5, 6, 7, 8], [9, 10, 11, 12], [13, 14, 15, 16]] \n",
    "    Expected Output:\n",
    "        Reverse each list in the said list of lists:\n",
    "        [[4, 3, 2, 1], [8, 7, 6, 5], [12, 11, 10, 9], [16, 15, 14, 13]] '''\n",
    "        \n",
    "        \n",
    "        \n",
    "        "
   ]
  },
  {
   "cell_type": "code",
   "execution_count": 20,
   "metadata": {},
   "outputs": [
    {
     "name": "stdout",
     "output_type": "stream",
     "text": [
      "Original list of lists: [[1, 2, 3, 4], [5, 6, 7, 8], [9, 10, 11, 12], [13, 14, 15, 16]]\n",
      "Reverse each list in the said list of lists: [[4, 3, 2, 1], [8, 7, 6, 5], [12, 11, 10, 9], [16, 15, 14, 13]]\n"
     ]
    }
   ],
   "source": [
    "def reverse_lists_in_list(list_of_lists):\n",
    "  reversed_list = []\n",
    "  for inner_list in list_of_lists:\n",
    "    reversed_list.append(inner_list[::-1])\n",
    "  return reversed_list\n",
    "nums = [[1, 2, 3, 4], [5, 6, 7, 8], [9, 10, 11, 12], [13, 14, 15, 16]]\n",
    "reversed_nums = reverse_lists_in_list(nums)\n",
    "print(\"Original list of lists:\", nums)\n",
    "print(\"Reverse each list in the said list of lists:\", reversed_nums)"
   ]
  },
  {
   "cell_type": "code",
   "execution_count": null,
   "metadata": {},
   "outputs": [],
   "source": [
    "''' 17. Write a Python program to find the difference between two lists including duplicate elements.\n",
    "    Data:\n",
    "        Original lists:\n",
    "        x = [1,1,2,3,3,4,4,5,6,7]\n",
    "        y = [1,1,2,4,5,6]\n",
    "    Expected Output:\n",
    "        Difference between two said list (including duplicate elements):\n",
    "        [3, 3, 4, 7] '''\n",
    "        \n",
    "        \n",
    "        \n",
    "        "
   ]
  },
  {
   "cell_type": "code",
   "execution_count": 21,
   "metadata": {},
   "outputs": [
    {
     "name": "stdout",
     "output_type": "stream",
     "text": [
      "[3, 3, 4, 7]\n"
     ]
    }
   ],
   "source": [
    "from collections import Counter\n",
    "\n",
    "def list_difference_with_duplicates(list1, list2):\n",
    "    count1 = Counter(list1)\n",
    "    count2 = Counter(list2)\n",
    "    difference = []\n",
    "\n",
    "    for element, count in count1.items():\n",
    "        if element not in count2:\n",
    "            difference.extend([element] * count)\n",
    "        else:\n",
    "            diff_count = count - count2[element]\n",
    "            if diff_count > 0:\n",
    "                difference.extend([element] * diff_count)\n",
    "\n",
    "    return difference\n",
    "x = [1, 1, 2, 3, 3, 4, 4, 5, 6, 7]\n",
    "y = [1, 1, 2, 4, 5, 6]\n",
    "result = list_difference_with_duplicates(x, y)\n",
    "print(result)"
   ]
  },
  {
   "cell_type": "code",
   "execution_count": null,
   "metadata": {},
   "outputs": [],
   "source": [
    "''' 18. Write a Python program to print consecutive elements pairing from the given list. \n",
    "    Data:\n",
    "        Original lists:\n",
    "        lists:[1, 1, 2, 3, 3, 4, 4, 5]\n",
    "    Expected Output:\n",
    "        Pairing of consecutive elements:\n",
    "        [(1, 1), (1, 2), (2, 3), (3, 3), (3, 4), (4, 4), (4, 5)] '''\n",
    "        \n",
    "        \n",
    "        \n",
    "        \n",
    "        "
   ]
  },
  {
   "cell_type": "code",
   "execution_count": 22,
   "metadata": {},
   "outputs": [
    {
     "name": "stdout",
     "output_type": "stream",
     "text": [
      "Original lists: [1, 1, 2, 3, 3, 4, 4, 5]\n",
      "Pairing of consecutive elements: [(1, 1), (1, 2), (2, 3), (3, 3), (3, 4), (4, 4), (4, 5)]\n"
     ]
    }
   ],
   "source": [
    "def pair_consecutive_elements(lst):\n",
    "    return list(zip(lst, lst[1:]))\n",
    "lists = [1, 1, 2, 3, 3, 4, 4, 5]\n",
    "paired_elements = pair_consecutive_elements(lists)\n",
    "print(\"Original lists:\", lists)\n",
    "print(\"Pairing of consecutive elements:\", paired_elements)"
   ]
  },
  {
   "cell_type": "code",
   "execution_count": 11,
   "metadata": {},
   "outputs": [],
   "source": [
    "''' 19. Write a Python program to remove duplicate words from the given list of strings.\n",
    "    Data:\n",
    "        Original String:\n",
    "        ['Python', 'Exercises', 'Practice', 'Solution', 'Exercises']\n",
    "    Expected Output:\n",
    "        After removing duplicate words from the said list of strings:\n",
    "        ['Python', 'Exercises', 'Practice', 'Solution'] '''\n",
    "\n",
    "        \n",
    "        \n",
    "        "
   ]
  },
  {
   "cell_type": "code",
   "execution_count": null,
   "metadata": {},
   "outputs": [],
   "source": [
    "''' 20. Write a Python program to remove specific words from the given list. \n",
    "    Data:\n",
    "        Original list:\n",
    "        list:['red', 'green', 'blue', 'white', 'black', 'orange']\n",
    "    Expected Output:\n",
    "        Remove words:\n",
    "        ['white', 'orange']\n",
    "\n",
    "        After removing the specified words from the said list:\n",
    "        ['red', 'green', 'blue', 'black'] '''\n",
    "        \n",
    "        \n",
    "        \n",
    "        "
   ]
  }
 ],
 "metadata": {
  "kernelspec": {
   "display_name": "Python 3 (ipykernel)",
   "language": "python",
   "name": "python3"
  },
  "language_info": {
   "codemirror_mode": {
    "name": "ipython",
    "version": 3
   },
   "file_extension": ".py",
   "mimetype": "text/x-python",
   "name": "python",
   "nbconvert_exporter": "python",
   "pygments_lexer": "ipython3",
   "version": "3.12.7"
  }
 },
 "nbformat": 4,
 "nbformat_minor": 4
}
